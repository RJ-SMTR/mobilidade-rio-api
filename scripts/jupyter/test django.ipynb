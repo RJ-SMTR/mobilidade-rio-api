{
 "cells": [
  {
   "cell_type": "markdown",
   "metadata": {},
   "source": [
    "# Tests for `predictor.utils`\n",
    "\n",
    "## How to use:\n",
    "\n",
    "Check your current kernel, if it's not the project's venv, change it:\n",
    "\n",
    "* Click the top right button to change the kernel to your project's venv (e.g. `'mobilidade_rio_api' (Python 3.10.8)` ([learn more](https://code.visualstudio.com/docs/python/jupyter-support-py#_connect-to-a-remote-jupyter-server))."
   ]
  },
  {
   "cell_type": "markdown",
   "metadata": {},
   "source": [
    "# Code"
   ]
  },
  {
   "cell_type": "markdown",
   "metadata": {},
   "source": [
    "Imports"
   ]
  },
  {
   "cell_type": "code",
   "execution_count": 1,
   "metadata": {},
   "outputs": [],
   "source": [
    "import init_django\n",
    "import pandas as pd\n",
    "# django\n",
    "# from mobilidade_rio.utils import query_utils as qu\n",
    "# from mobilidade_rio.utils import jupyter_utils as ju\n",
    "# from mobilidade_rio.utils import django_utils as du\n",
    "from mobilidade_rio.pontos.models import *\n",
    "from mobilidade_rio.predictor.models import *\n",
    "# query\n",
    "from django.db import connection\n",
    "cur = connection.cursor() "
   ]
  },
  {
   "cell_type": "markdown",
   "metadata": {},
   "source": [
    "test task"
   ]
  },
  {
   "cell_type": "code",
   "execution_count": 2,
   "metadata": {},
   "outputs": [
    {
     "name": "stdout",
     "output_type": "stream",
     "text": [
      "[GENPRED] etapa 1\n",
      "[GENPRED] etapa 2\n",
      "[GENPRED] etapa 3\n",
      "[GENPRED] 3.1\n",
      "[GENPRED] 3.2\n",
      "[GENPRED] 3.3\n",
      "[GENPRED] 3.4\n",
      "[GENPRED] 3.4 0\n",
      "[GENPRED] 3.5\n",
      "[GENPRED] 3.6\n",
      "[GENPRED] 3.7 insert [{'trip_id': '2000014113020102', 'stop_id': '424132201001372', 'id_veiculo': 'B53', 'latitude': -23.00812, 'longitude': -43.44229, 'dataHora': Timestamp('2023-01-27 20:15:44.515169'), 'trip_short_name': '14', 'direction_id': 1, 'service_id': 'U', 'stop_sequence': 1, 'arrival_time': None}, {'trip_id': '2000014113010102', 'stop_id': '519148202000372', 'id_veiculo': nan, 'latitude': -22.918365, 'longitude': -43.639274, 'dataHora': Timestamp('2023-01-27 20:15:44.515169'), 'trip_short_name': '14', 'direction_id': 0, 'service_id': 'U', 'stop_sequence': 1, 'arrival_time': None}]\n"
     ]
    },
    {
     "ename": "IntegrityError",
     "evalue": "null value in column \"arrival_time\" of relation \"predictor_prediction\" violates not-null constraint\nDETAIL:  Failing row contains (2, 2000014113020102, 424132201001372, B53, -23.00812, -43.44229, 2023-01-27 20:15:44.515169, 14, 1, U, 1, null).\n",
     "output_type": "error",
     "traceback": [
      "\u001b[1;31m---------------------------------------------------------------------------\u001b[0m",
      "\u001b[1;31mDoesNotExist\u001b[0m                              Traceback (most recent call last)",
      "File \u001b[1;32mc:\\Users\\Rapha\\anaconda3\\envs\\mobilidade_rio_api\\lib\\site-packages\\django\\db\\models\\query.py:589\u001b[0m, in \u001b[0;36mQuerySet.update_or_create\u001b[1;34m(self, defaults, **kwargs)\u001b[0m\n\u001b[0;32m    588\u001b[0m \u001b[39mtry\u001b[39;00m:\n\u001b[1;32m--> 589\u001b[0m     obj \u001b[39m=\u001b[39m \u001b[39mself\u001b[39m\u001b[39m.\u001b[39mselect_for_update()\u001b[39m.\u001b[39mget(\u001b[39m*\u001b[39m\u001b[39m*\u001b[39mkwargs)\n\u001b[0;32m    590\u001b[0m \u001b[39mexcept\u001b[39;00m \u001b[39mself\u001b[39m\u001b[39m.\u001b[39mmodel\u001b[39m.\u001b[39mDoesNotExist:\n",
      "File \u001b[1;32mc:\\Users\\Rapha\\anaconda3\\envs\\mobilidade_rio_api\\lib\\site-packages\\django\\db\\models\\query.py:429\u001b[0m, in \u001b[0;36mQuerySet.get\u001b[1;34m(self, *args, **kwargs)\u001b[0m\n\u001b[0;32m    428\u001b[0m \u001b[39mif\u001b[39;00m \u001b[39mnot\u001b[39;00m num:\n\u001b[1;32m--> 429\u001b[0m     \u001b[39mraise\u001b[39;00m \u001b[39mself\u001b[39m\u001b[39m.\u001b[39mmodel\u001b[39m.\u001b[39mDoesNotExist(\n\u001b[0;32m    430\u001b[0m         \u001b[39m\"\u001b[39m\u001b[39m%s\u001b[39;00m\u001b[39m matching query does not exist.\u001b[39m\u001b[39m\"\u001b[39m \u001b[39m%\u001b[39m\n\u001b[0;32m    431\u001b[0m         \u001b[39mself\u001b[39m\u001b[39m.\u001b[39mmodel\u001b[39m.\u001b[39m_meta\u001b[39m.\u001b[39mobject_name\n\u001b[0;32m    432\u001b[0m     )\n\u001b[0;32m    433\u001b[0m \u001b[39mraise\u001b[39;00m \u001b[39mself\u001b[39m\u001b[39m.\u001b[39mmodel\u001b[39m.\u001b[39mMultipleObjectsReturned(\n\u001b[0;32m    434\u001b[0m     \u001b[39m'\u001b[39m\u001b[39mget() returned more than one \u001b[39m\u001b[39m%s\u001b[39;00m\u001b[39m -- it returned \u001b[39m\u001b[39m%s\u001b[39;00m\u001b[39m!\u001b[39m\u001b[39m'\u001b[39m \u001b[39m%\u001b[39m (\n\u001b[0;32m    435\u001b[0m         \u001b[39mself\u001b[39m\u001b[39m.\u001b[39mmodel\u001b[39m.\u001b[39m_meta\u001b[39m.\u001b[39mobject_name,\n\u001b[0;32m    436\u001b[0m         num \u001b[39mif\u001b[39;00m \u001b[39mnot\u001b[39;00m limit \u001b[39mor\u001b[39;00m num \u001b[39m<\u001b[39m limit \u001b[39melse\u001b[39;00m \u001b[39m'\u001b[39m\u001b[39mmore than \u001b[39m\u001b[39m%s\u001b[39;00m\u001b[39m'\u001b[39m \u001b[39m%\u001b[39m (limit \u001b[39m-\u001b[39m \u001b[39m1\u001b[39m),\n\u001b[0;32m    437\u001b[0m     )\n\u001b[0;32m    438\u001b[0m )\n",
      "\u001b[1;31mDoesNotExist\u001b[0m: Prediction matching query does not exist.",
      "\nDuring handling of the above exception, another exception occurred:\n",
      "\u001b[1;31mNotNullViolation\u001b[0m                          Traceback (most recent call last)",
      "File \u001b[1;32mc:\\Users\\Rapha\\anaconda3\\envs\\mobilidade_rio_api\\lib\\site-packages\\django\\db\\backends\\utils.py:84\u001b[0m, in \u001b[0;36mCursorWrapper._execute\u001b[1;34m(self, sql, params, *ignored_wrapper_args)\u001b[0m\n\u001b[0;32m     83\u001b[0m \u001b[39melse\u001b[39;00m:\n\u001b[1;32m---> 84\u001b[0m     \u001b[39mreturn\u001b[39;00m \u001b[39mself\u001b[39;49m\u001b[39m.\u001b[39;49mcursor\u001b[39m.\u001b[39;49mexecute(sql, params)\n",
      "\u001b[1;31mNotNullViolation\u001b[0m: null value in column \"arrival_time\" of relation \"predictor_prediction\" violates not-null constraint\nDETAIL:  Failing row contains (2, 2000014113020102, 424132201001372, B53, -23.00812, -43.44229, 2023-01-27 20:15:44.515169, 14, 1, U, 1, null).\n",
      "\nThe above exception was the direct cause of the following exception:\n",
      "\u001b[1;31mIntegrityError\u001b[0m                            Traceback (most recent call last)",
      "Cell \u001b[1;32mIn [2], line 2\u001b[0m\n\u001b[0;32m      1\u001b[0m \u001b[39mfrom\u001b[39;00m \u001b[39mmobilidade_rio\u001b[39;00m\u001b[39m.\u001b[39;00m\u001b[39mconfig_django_q\u001b[39;00m \u001b[39mimport\u001b[39;00m tasks\n\u001b[1;32m----> 2\u001b[0m tasks\u001b[39m.\u001b[39;49mgenerate_prediction()\n",
      "File \u001b[1;32me:\\Documentos\\Projetos\\smtr\\mobilidade-rio-api\\scripts\\jupyter\\../../mobilidade_rio\\mobilidade_rio\\config_django_q\\tasks.py:76\u001b[0m, in \u001b[0;36mgenerate_prediction\u001b[1;34m()\u001b[0m\n\u001b[0;32m     74\u001b[0m \u001b[39mprint\u001b[39m(\u001b[39m\"\u001b[39m\u001b[39m[GENPRED] 3.7 insert\u001b[39m\u001b[39m\"\u001b[39m, df_prediction\u001b[39m.\u001b[39mhead(\u001b[39m2\u001b[39m)\u001b[39m.\u001b[39mto_dict(\u001b[39m'\u001b[39m\u001b[39mrecords\u001b[39m\u001b[39m'\u001b[39m))\n\u001b[0;32m     75\u001b[0m \u001b[39mfor\u001b[39;00m row \u001b[39min\u001b[39;00m df_prediction\u001b[39m.\u001b[39mto_dict(\u001b[39m'\u001b[39m\u001b[39mrecords\u001b[39m\u001b[39m'\u001b[39m):\n\u001b[1;32m---> 76\u001b[0m     Prediction\u001b[39m.\u001b[39mobjects\u001b[39m.\u001b[39mupdate_or_create(\u001b[39m*\u001b[39m\u001b[39m*\u001b[39mrow)\n\u001b[0;32m     77\u001b[0m \u001b[39mprint\u001b[39m(\u001b[39m\"\u001b[39m\u001b[39m[GENPRED] end\u001b[39m\u001b[39m\"\u001b[39m)\n",
      "File \u001b[1;32mc:\\Users\\Rapha\\anaconda3\\envs\\mobilidade_rio_api\\lib\\site-packages\\django\\db\\models\\manager.py:85\u001b[0m, in \u001b[0;36mBaseManager._get_queryset_methods.<locals>.create_method.<locals>.manager_method\u001b[1;34m(self, *args, **kwargs)\u001b[0m\n\u001b[0;32m     84\u001b[0m \u001b[39mdef\u001b[39;00m \u001b[39mmanager_method\u001b[39m(\u001b[39mself\u001b[39m, \u001b[39m*\u001b[39margs, \u001b[39m*\u001b[39m\u001b[39m*\u001b[39mkwargs):\n\u001b[1;32m---> 85\u001b[0m     \u001b[39mreturn\u001b[39;00m \u001b[39mgetattr\u001b[39m(\u001b[39mself\u001b[39m\u001b[39m.\u001b[39mget_queryset(), name)(\u001b[39m*\u001b[39margs, \u001b[39m*\u001b[39m\u001b[39m*\u001b[39mkwargs)\n",
      "File \u001b[1;32mc:\\Users\\Rapha\\anaconda3\\envs\\mobilidade_rio_api\\lib\\site-packages\\django\\db\\models\\query.py:594\u001b[0m, in \u001b[0;36mQuerySet.update_or_create\u001b[1;34m(self, defaults, **kwargs)\u001b[0m\n\u001b[0;32m    591\u001b[0m params \u001b[39m=\u001b[39m \u001b[39mself\u001b[39m\u001b[39m.\u001b[39m_extract_model_params(defaults, \u001b[39m*\u001b[39m\u001b[39m*\u001b[39mkwargs)\n\u001b[0;32m    592\u001b[0m \u001b[39m# Lock the row so that a concurrent update is blocked until\u001b[39;00m\n\u001b[0;32m    593\u001b[0m \u001b[39m# after update_or_create() has performed its save.\u001b[39;00m\n\u001b[1;32m--> 594\u001b[0m obj, created \u001b[39m=\u001b[39m \u001b[39mself\u001b[39;49m\u001b[39m.\u001b[39;49m_create_object_from_params(kwargs, params, lock\u001b[39m=\u001b[39;49m\u001b[39mTrue\u001b[39;49;00m)\n\u001b[0;32m    595\u001b[0m \u001b[39mif\u001b[39;00m created:\n\u001b[0;32m    596\u001b[0m     \u001b[39mreturn\u001b[39;00m obj, created\n",
      "File \u001b[1;32mc:\\Users\\Rapha\\anaconda3\\envs\\mobilidade_rio_api\\lib\\site-packages\\django\\db\\models\\query.py:610\u001b[0m, in \u001b[0;36mQuerySet._create_object_from_params\u001b[1;34m(self, lookup, params, lock)\u001b[0m\n\u001b[0;32m    608\u001b[0m     \u001b[39mwith\u001b[39;00m transaction\u001b[39m.\u001b[39matomic(using\u001b[39m=\u001b[39m\u001b[39mself\u001b[39m\u001b[39m.\u001b[39mdb):\n\u001b[0;32m    609\u001b[0m         params \u001b[39m=\u001b[39m \u001b[39mdict\u001b[39m(resolve_callables(params))\n\u001b[1;32m--> 610\u001b[0m         obj \u001b[39m=\u001b[39m \u001b[39mself\u001b[39m\u001b[39m.\u001b[39mcreate(\u001b[39m*\u001b[39m\u001b[39m*\u001b[39mparams)\n\u001b[0;32m    611\u001b[0m     \u001b[39mreturn\u001b[39;00m obj, \u001b[39mTrue\u001b[39;00m\n\u001b[0;32m    612\u001b[0m \u001b[39mexcept\u001b[39;00m IntegrityError:\n",
      "File \u001b[1;32mc:\\Users\\Rapha\\anaconda3\\envs\\mobilidade_rio_api\\lib\\site-packages\\django\\db\\models\\query.py:447\u001b[0m, in \u001b[0;36mQuerySet.create\u001b[1;34m(self, **kwargs)\u001b[0m\n\u001b[0;32m    445\u001b[0m obj \u001b[39m=\u001b[39m \u001b[39mself\u001b[39m\u001b[39m.\u001b[39mmodel(\u001b[39m*\u001b[39m\u001b[39m*\u001b[39mkwargs)\n\u001b[0;32m    446\u001b[0m \u001b[39mself\u001b[39m\u001b[39m.\u001b[39m_for_write \u001b[39m=\u001b[39m \u001b[39mTrue\u001b[39;00m\n\u001b[1;32m--> 447\u001b[0m obj\u001b[39m.\u001b[39;49msave(force_insert\u001b[39m=\u001b[39;49m\u001b[39mTrue\u001b[39;49;00m, using\u001b[39m=\u001b[39;49m\u001b[39mself\u001b[39;49m\u001b[39m.\u001b[39;49mdb)\n\u001b[0;32m    448\u001b[0m \u001b[39mreturn\u001b[39;00m obj\n",
      "File \u001b[1;32mc:\\Users\\Rapha\\anaconda3\\envs\\mobilidade_rio_api\\lib\\site-packages\\django\\db\\models\\base.py:753\u001b[0m, in \u001b[0;36mModel.save\u001b[1;34m(self, force_insert, force_update, using, update_fields)\u001b[0m\n\u001b[0;32m    750\u001b[0m     \u001b[39mif\u001b[39;00m loaded_fields:\n\u001b[0;32m    751\u001b[0m         update_fields \u001b[39m=\u001b[39m \u001b[39mfrozenset\u001b[39m(loaded_fields)\n\u001b[1;32m--> 753\u001b[0m \u001b[39mself\u001b[39;49m\u001b[39m.\u001b[39;49msave_base(using\u001b[39m=\u001b[39;49musing, force_insert\u001b[39m=\u001b[39;49mforce_insert,\n\u001b[0;32m    754\u001b[0m                force_update\u001b[39m=\u001b[39;49mforce_update, update_fields\u001b[39m=\u001b[39;49mupdate_fields)\n",
      "File \u001b[1;32mc:\\Users\\Rapha\\anaconda3\\envs\\mobilidade_rio_api\\lib\\site-packages\\django\\db\\models\\base.py:790\u001b[0m, in \u001b[0;36mModel.save_base\u001b[1;34m(self, raw, force_insert, force_update, using, update_fields)\u001b[0m\n\u001b[0;32m    788\u001b[0m     \u001b[39mif\u001b[39;00m \u001b[39mnot\u001b[39;00m raw:\n\u001b[0;32m    789\u001b[0m         parent_inserted \u001b[39m=\u001b[39m \u001b[39mself\u001b[39m\u001b[39m.\u001b[39m_save_parents(\u001b[39mcls\u001b[39m, using, update_fields)\n\u001b[1;32m--> 790\u001b[0m     updated \u001b[39m=\u001b[39m \u001b[39mself\u001b[39;49m\u001b[39m.\u001b[39;49m_save_table(\n\u001b[0;32m    791\u001b[0m         raw, \u001b[39mcls\u001b[39;49m, force_insert \u001b[39mor\u001b[39;49;00m parent_inserted,\n\u001b[0;32m    792\u001b[0m         force_update, using, update_fields,\n\u001b[0;32m    793\u001b[0m     )\n\u001b[0;32m    794\u001b[0m \u001b[39m# Store the database on which the object was saved\u001b[39;00m\n\u001b[0;32m    795\u001b[0m \u001b[39mself\u001b[39m\u001b[39m.\u001b[39m_state\u001b[39m.\u001b[39mdb \u001b[39m=\u001b[39m using\n",
      "File \u001b[1;32mc:\\Users\\Rapha\\anaconda3\\envs\\mobilidade_rio_api\\lib\\site-packages\\django\\db\\models\\base.py:895\u001b[0m, in \u001b[0;36mModel._save_table\u001b[1;34m(self, raw, cls, force_insert, force_update, using, update_fields)\u001b[0m\n\u001b[0;32m    892\u001b[0m     fields \u001b[39m=\u001b[39m [f \u001b[39mfor\u001b[39;00m f \u001b[39min\u001b[39;00m fields \u001b[39mif\u001b[39;00m f \u001b[39mis\u001b[39;00m \u001b[39mnot\u001b[39;00m meta\u001b[39m.\u001b[39mauto_field]\n\u001b[0;32m    894\u001b[0m returning_fields \u001b[39m=\u001b[39m meta\u001b[39m.\u001b[39mdb_returning_fields\n\u001b[1;32m--> 895\u001b[0m results \u001b[39m=\u001b[39m \u001b[39mself\u001b[39;49m\u001b[39m.\u001b[39;49m_do_insert(\u001b[39mcls\u001b[39;49m\u001b[39m.\u001b[39;49m_base_manager, using, fields, returning_fields, raw)\n\u001b[0;32m    896\u001b[0m \u001b[39mif\u001b[39;00m results:\n\u001b[0;32m    897\u001b[0m     \u001b[39mfor\u001b[39;00m value, field \u001b[39min\u001b[39;00m \u001b[39mzip\u001b[39m(results[\u001b[39m0\u001b[39m], returning_fields):\n",
      "File \u001b[1;32mc:\\Users\\Rapha\\anaconda3\\envs\\mobilidade_rio_api\\lib\\site-packages\\django\\db\\models\\base.py:933\u001b[0m, in \u001b[0;36mModel._do_insert\u001b[1;34m(self, manager, using, fields, returning_fields, raw)\u001b[0m\n\u001b[0;32m    928\u001b[0m \u001b[39mdef\u001b[39;00m \u001b[39m_do_insert\u001b[39m(\u001b[39mself\u001b[39m, manager, using, fields, returning_fields, raw):\n\u001b[0;32m    929\u001b[0m     \u001b[39m\"\"\"\u001b[39;00m\n\u001b[0;32m    930\u001b[0m \u001b[39m    Do an INSERT. If returning_fields is defined then this method should\u001b[39;00m\n\u001b[0;32m    931\u001b[0m \u001b[39m    return the newly created data for the model.\u001b[39;00m\n\u001b[0;32m    932\u001b[0m \u001b[39m    \"\"\"\u001b[39;00m\n\u001b[1;32m--> 933\u001b[0m     \u001b[39mreturn\u001b[39;00m manager\u001b[39m.\u001b[39;49m_insert(\n\u001b[0;32m    934\u001b[0m         [\u001b[39mself\u001b[39;49m], fields\u001b[39m=\u001b[39;49mfields, returning_fields\u001b[39m=\u001b[39;49mreturning_fields,\n\u001b[0;32m    935\u001b[0m         using\u001b[39m=\u001b[39;49musing, raw\u001b[39m=\u001b[39;49mraw,\n\u001b[0;32m    936\u001b[0m     )\n",
      "File \u001b[1;32mc:\\Users\\Rapha\\anaconda3\\envs\\mobilidade_rio_api\\lib\\site-packages\\django\\db\\models\\manager.py:85\u001b[0m, in \u001b[0;36mBaseManager._get_queryset_methods.<locals>.create_method.<locals>.manager_method\u001b[1;34m(self, *args, **kwargs)\u001b[0m\n\u001b[0;32m     84\u001b[0m \u001b[39mdef\u001b[39;00m \u001b[39mmanager_method\u001b[39m(\u001b[39mself\u001b[39m, \u001b[39m*\u001b[39margs, \u001b[39m*\u001b[39m\u001b[39m*\u001b[39mkwargs):\n\u001b[1;32m---> 85\u001b[0m     \u001b[39mreturn\u001b[39;00m \u001b[39mgetattr\u001b[39m(\u001b[39mself\u001b[39m\u001b[39m.\u001b[39mget_queryset(), name)(\u001b[39m*\u001b[39margs, \u001b[39m*\u001b[39m\u001b[39m*\u001b[39mkwargs)\n",
      "File \u001b[1;32mc:\\Users\\Rapha\\anaconda3\\envs\\mobilidade_rio_api\\lib\\site-packages\\django\\db\\models\\query.py:1254\u001b[0m, in \u001b[0;36mQuerySet._insert\u001b[1;34m(self, objs, fields, returning_fields, raw, using, ignore_conflicts)\u001b[0m\n\u001b[0;32m   1252\u001b[0m query \u001b[39m=\u001b[39m sql\u001b[39m.\u001b[39mInsertQuery(\u001b[39mself\u001b[39m\u001b[39m.\u001b[39mmodel, ignore_conflicts\u001b[39m=\u001b[39mignore_conflicts)\n\u001b[0;32m   1253\u001b[0m query\u001b[39m.\u001b[39minsert_values(fields, objs, raw\u001b[39m=\u001b[39mraw)\n\u001b[1;32m-> 1254\u001b[0m \u001b[39mreturn\u001b[39;00m query\u001b[39m.\u001b[39;49mget_compiler(using\u001b[39m=\u001b[39;49musing)\u001b[39m.\u001b[39;49mexecute_sql(returning_fields)\n",
      "File \u001b[1;32mc:\\Users\\Rapha\\anaconda3\\envs\\mobilidade_rio_api\\lib\\site-packages\\django\\db\\models\\sql\\compiler.py:1397\u001b[0m, in \u001b[0;36mSQLInsertCompiler.execute_sql\u001b[1;34m(self, returning_fields)\u001b[0m\n\u001b[0;32m   1395\u001b[0m \u001b[39mwith\u001b[39;00m \u001b[39mself\u001b[39m\u001b[39m.\u001b[39mconnection\u001b[39m.\u001b[39mcursor() \u001b[39mas\u001b[39;00m cursor:\n\u001b[0;32m   1396\u001b[0m     \u001b[39mfor\u001b[39;00m sql, params \u001b[39min\u001b[39;00m \u001b[39mself\u001b[39m\u001b[39m.\u001b[39mas_sql():\n\u001b[1;32m-> 1397\u001b[0m         cursor\u001b[39m.\u001b[39;49mexecute(sql, params)\n\u001b[0;32m   1398\u001b[0m     \u001b[39mif\u001b[39;00m \u001b[39mnot\u001b[39;00m \u001b[39mself\u001b[39m\u001b[39m.\u001b[39mreturning_fields:\n\u001b[0;32m   1399\u001b[0m         \u001b[39mreturn\u001b[39;00m []\n",
      "File \u001b[1;32mc:\\Users\\Rapha\\anaconda3\\envs\\mobilidade_rio_api\\lib\\site-packages\\django\\db\\backends\\utils.py:98\u001b[0m, in \u001b[0;36mCursorDebugWrapper.execute\u001b[1;34m(self, sql, params)\u001b[0m\n\u001b[0;32m     96\u001b[0m \u001b[39mdef\u001b[39;00m \u001b[39mexecute\u001b[39m(\u001b[39mself\u001b[39m, sql, params\u001b[39m=\u001b[39m\u001b[39mNone\u001b[39;00m):\n\u001b[0;32m     97\u001b[0m     \u001b[39mwith\u001b[39;00m \u001b[39mself\u001b[39m\u001b[39m.\u001b[39mdebug_sql(sql, params, use_last_executed_query\u001b[39m=\u001b[39m\u001b[39mTrue\u001b[39;00m):\n\u001b[1;32m---> 98\u001b[0m         \u001b[39mreturn\u001b[39;00m \u001b[39msuper\u001b[39;49m()\u001b[39m.\u001b[39;49mexecute(sql, params)\n",
      "File \u001b[1;32mc:\\Users\\Rapha\\anaconda3\\envs\\mobilidade_rio_api\\lib\\site-packages\\django\\db\\backends\\utils.py:66\u001b[0m, in \u001b[0;36mCursorWrapper.execute\u001b[1;34m(self, sql, params)\u001b[0m\n\u001b[0;32m     65\u001b[0m \u001b[39mdef\u001b[39;00m \u001b[39mexecute\u001b[39m(\u001b[39mself\u001b[39m, sql, params\u001b[39m=\u001b[39m\u001b[39mNone\u001b[39;00m):\n\u001b[1;32m---> 66\u001b[0m     \u001b[39mreturn\u001b[39;00m \u001b[39mself\u001b[39;49m\u001b[39m.\u001b[39;49m_execute_with_wrappers(sql, params, many\u001b[39m=\u001b[39;49m\u001b[39mFalse\u001b[39;49;00m, executor\u001b[39m=\u001b[39;49m\u001b[39mself\u001b[39;49m\u001b[39m.\u001b[39;49m_execute)\n",
      "File \u001b[1;32mc:\\Users\\Rapha\\anaconda3\\envs\\mobilidade_rio_api\\lib\\site-packages\\django\\db\\backends\\utils.py:75\u001b[0m, in \u001b[0;36mCursorWrapper._execute_with_wrappers\u001b[1;34m(self, sql, params, many, executor)\u001b[0m\n\u001b[0;32m     73\u001b[0m \u001b[39mfor\u001b[39;00m wrapper \u001b[39min\u001b[39;00m \u001b[39mreversed\u001b[39m(\u001b[39mself\u001b[39m\u001b[39m.\u001b[39mdb\u001b[39m.\u001b[39mexecute_wrappers):\n\u001b[0;32m     74\u001b[0m     executor \u001b[39m=\u001b[39m functools\u001b[39m.\u001b[39mpartial(wrapper, executor)\n\u001b[1;32m---> 75\u001b[0m \u001b[39mreturn\u001b[39;00m executor(sql, params, many, context)\n",
      "File \u001b[1;32mc:\\Users\\Rapha\\anaconda3\\envs\\mobilidade_rio_api\\lib\\site-packages\\django\\db\\backends\\utils.py:79\u001b[0m, in \u001b[0;36mCursorWrapper._execute\u001b[1;34m(self, sql, params, *ignored_wrapper_args)\u001b[0m\n\u001b[0;32m     77\u001b[0m \u001b[39mdef\u001b[39;00m \u001b[39m_execute\u001b[39m(\u001b[39mself\u001b[39m, sql, params, \u001b[39m*\u001b[39mignored_wrapper_args):\n\u001b[0;32m     78\u001b[0m     \u001b[39mself\u001b[39m\u001b[39m.\u001b[39mdb\u001b[39m.\u001b[39mvalidate_no_broken_transaction()\n\u001b[1;32m---> 79\u001b[0m     \u001b[39mwith\u001b[39;00m \u001b[39mself\u001b[39m\u001b[39m.\u001b[39mdb\u001b[39m.\u001b[39mwrap_database_errors:\n\u001b[0;32m     80\u001b[0m         \u001b[39mif\u001b[39;00m params \u001b[39mis\u001b[39;00m \u001b[39mNone\u001b[39;00m:\n\u001b[0;32m     81\u001b[0m             \u001b[39m# params default might be backend specific.\u001b[39;00m\n\u001b[0;32m     82\u001b[0m             \u001b[39mreturn\u001b[39;00m \u001b[39mself\u001b[39m\u001b[39m.\u001b[39mcursor\u001b[39m.\u001b[39mexecute(sql)\n",
      "File \u001b[1;32mc:\\Users\\Rapha\\anaconda3\\envs\\mobilidade_rio_api\\lib\\site-packages\\django\\db\\utils.py:90\u001b[0m, in \u001b[0;36mDatabaseErrorWrapper.__exit__\u001b[1;34m(self, exc_type, exc_value, traceback)\u001b[0m\n\u001b[0;32m     88\u001b[0m \u001b[39mif\u001b[39;00m dj_exc_type \u001b[39mnot\u001b[39;00m \u001b[39min\u001b[39;00m (DataError, IntegrityError):\n\u001b[0;32m     89\u001b[0m     \u001b[39mself\u001b[39m\u001b[39m.\u001b[39mwrapper\u001b[39m.\u001b[39merrors_occurred \u001b[39m=\u001b[39m \u001b[39mTrue\u001b[39;00m\n\u001b[1;32m---> 90\u001b[0m \u001b[39mraise\u001b[39;00m dj_exc_value\u001b[39m.\u001b[39mwith_traceback(traceback) \u001b[39mfrom\u001b[39;00m \u001b[39mexc_value\u001b[39;00m\n",
      "File \u001b[1;32mc:\\Users\\Rapha\\anaconda3\\envs\\mobilidade_rio_api\\lib\\site-packages\\django\\db\\backends\\utils.py:84\u001b[0m, in \u001b[0;36mCursorWrapper._execute\u001b[1;34m(self, sql, params, *ignored_wrapper_args)\u001b[0m\n\u001b[0;32m     82\u001b[0m     \u001b[39mreturn\u001b[39;00m \u001b[39mself\u001b[39m\u001b[39m.\u001b[39mcursor\u001b[39m.\u001b[39mexecute(sql)\n\u001b[0;32m     83\u001b[0m \u001b[39melse\u001b[39;00m:\n\u001b[1;32m---> 84\u001b[0m     \u001b[39mreturn\u001b[39;00m \u001b[39mself\u001b[39;49m\u001b[39m.\u001b[39;49mcursor\u001b[39m.\u001b[39;49mexecute(sql, params)\n",
      "\u001b[1;31mIntegrityError\u001b[0m: null value in column \"arrival_time\" of relation \"predictor_prediction\" violates not-null constraint\nDETAIL:  Failing row contains (2, 2000014113020102, 424132201001372, B53, -23.00812, -43.44229, 2023-01-27 20:15:44.515169, 14, 1, U, 1, null).\n"
     ]
    }
   ],
   "source": [
    "from mobilidade_rio.config_django_q import tasks\n",
    "tasks.generate_prediction()"
   ]
  },
  {
   "cell_type": "markdown",
   "metadata": {},
   "source": [
    "Add df to django ORM"
   ]
  },
  {
   "cell_type": "code",
   "execution_count": 3,
   "metadata": {},
   "outputs": [
    {
     "data": {
      "text/html": [
       "<div>\n",
       "<style scoped>\n",
       "    .dataframe tbody tr th:only-of-type {\n",
       "        vertical-align: middle;\n",
       "    }\n",
       "\n",
       "    .dataframe tbody tr th {\n",
       "        vertical-align: top;\n",
       "    }\n",
       "\n",
       "    .dataframe thead th {\n",
       "        text-align: right;\n",
       "    }\n",
       "</style>\n",
       "<table border=\"1\" class=\"dataframe\">\n",
       "  <thead>\n",
       "    <tr style=\"text-align: right;\">\n",
       "      <th></th>\n",
       "      <th>agency_id</th>\n",
       "      <th>agency_name</th>\n",
       "      <th>agency_url</th>\n",
       "      <th>agency_timezone</th>\n",
       "      <th>agency_lang</th>\n",
       "      <th>agency_phone</th>\n",
       "      <th>agency_branding_url</th>\n",
       "      <th>agency_fare_url</th>\n",
       "      <th>agency_email</th>\n",
       "    </tr>\n",
       "  </thead>\n",
       "  <tbody>\n",
       "    <tr>\n",
       "      <th>0</th>\n",
       "      <td>999427adac028028a36ac4210d42a959</td>\n",
       "      <td>a1</td>\n",
       "      <td></td>\n",
       "      <td></td>\n",
       "      <td>None</td>\n",
       "      <td>None</td>\n",
       "      <td>None</td>\n",
       "      <td>None</td>\n",
       "      <td>None</td>\n",
       "    </tr>\n",
       "    <tr>\n",
       "      <th>1</th>\n",
       "      <td>35f115ba54f89222da2cc0d1a3074d30</td>\n",
       "      <td>NaN</td>\n",
       "      <td>NaN</td>\n",
       "      <td>NaN</td>\n",
       "      <td>NaN</td>\n",
       "      <td>NaN</td>\n",
       "      <td>NaN</td>\n",
       "      <td>NaN</td>\n",
       "      <td>NaN</td>\n",
       "    </tr>\n",
       "    <tr>\n",
       "      <th>2</th>\n",
       "      <td>3e4840d776769235ed1349561695448e</td>\n",
       "      <td>NaN</td>\n",
       "      <td>NaN</td>\n",
       "      <td>NaN</td>\n",
       "      <td>NaN</td>\n",
       "      <td>NaN</td>\n",
       "      <td>NaN</td>\n",
       "      <td>NaN</td>\n",
       "      <td>NaN</td>\n",
       "    </tr>\n",
       "    <tr>\n",
       "      <th>3</th>\n",
       "      <td>fbf97e9c5f8f75a3203efe06bb447065</td>\n",
       "      <td>NaN</td>\n",
       "      <td>NaN</td>\n",
       "      <td>NaN</td>\n",
       "      <td>NaN</td>\n",
       "      <td>NaN</td>\n",
       "      <td>NaN</td>\n",
       "      <td>NaN</td>\n",
       "      <td>NaN</td>\n",
       "    </tr>\n",
       "  </tbody>\n",
       "</table>\n",
       "</div>"
      ],
      "text/plain": [
       "                          agency_id agency_name agency_url agency_timezone  \\\n",
       "0  999427adac028028a36ac4210d42a959          a1                              \n",
       "1  35f115ba54f89222da2cc0d1a3074d30         NaN        NaN             NaN   \n",
       "2  3e4840d776769235ed1349561695448e         NaN        NaN             NaN   \n",
       "3  fbf97e9c5f8f75a3203efe06bb447065         NaN        NaN             NaN   \n",
       "\n",
       "  agency_lang agency_phone agency_branding_url agency_fare_url agency_email  \n",
       "0        None         None                None            None         None  \n",
       "1         NaN          NaN                 NaN             NaN          NaN  \n",
       "2         NaN          NaN                 NaN             NaN          NaN  \n",
       "3         NaN          NaN                 NaN             NaN          NaN  "
      ]
     },
     "metadata": {},
     "output_type": "display_data"
    },
    {
     "name": "stdout",
     "output_type": "stream",
     "text": [
      "row {'agency_id': '999427adac028028a36ac4210d42a959', 'agency_name': 'a1', 'agency_url': '', 'agency_timezone': '', 'agency_lang': None, 'agency_phone': None, 'agency_branding_url': None, 'agency_fare_url': None, 'agency_email': None}\n",
      "row {'agency_id': '35f115ba54f89222da2cc0d1a3074d30', 'agency_name': nan, 'agency_url': nan, 'agency_timezone': nan, 'agency_lang': nan, 'agency_phone': nan, 'agency_branding_url': nan, 'agency_fare_url': nan, 'agency_email': nan}\n",
      "row {'agency_id': '3e4840d776769235ed1349561695448e', 'agency_name': nan, 'agency_url': nan, 'agency_timezone': nan, 'agency_lang': nan, 'agency_phone': nan, 'agency_branding_url': nan, 'agency_fare_url': nan, 'agency_email': nan}\n",
      "row {'agency_id': 'fbf97e9c5f8f75a3203efe06bb447065', 'agency_name': nan, 'agency_url': nan, 'agency_timezone': nan, 'agency_lang': nan, 'agency_phone': nan, 'agency_branding_url': nan, 'agency_fare_url': nan, 'agency_email': nan}\n"
     ]
    },
    {
     "data": {
      "text/plain": [
       "[<Agency: Agency object (999427adac028028a36ac4210d42a959)>,\n",
       " <Agency: Agency object (35f115ba54f89222da2cc0d1a3074d30)>,\n",
       " <Agency: Agency object (3e4840d776769235ed1349561695448e)>,\n",
       " <Agency: Agency object (fbf97e9c5f8f75a3203efe06bb447065)>]"
      ]
     },
     "execution_count": 3,
     "metadata": {},
     "output_type": "execute_result"
    }
   ],
   "source": [
    "import hashlib\n",
    "\n",
    "Agency.objects.all().delete()\n",
    "# create df based on model\n",
    "new_agency = Agency(\n",
    "    agency_name = 'a1',\n",
    ")\n",
    "df_agency = pd.DataFrame([new_agency.__dict__])\n",
    "df_agency = df_agency.drop(['_state'], axis=1)\n",
    "# set random pk\n",
    "random_md5 = hashlib.md5(os.urandom(128)).hexdigest()\n",
    "df_agency['agency_id'] = random_md5\n",
    "\n",
    "# add 3 random items\n",
    "for i in range(3):\n",
    "    random_md5 = hashlib.md5(os.urandom(128)).hexdigest()\n",
    "    # concat with new values\n",
    "    df_agency = pd.concat([df_agency, pd.DataFrame([{'agency_id': random_md5}])], ignore_index=True)\n",
    "\n",
    "display(df_agency)\n",
    "for row in df_agency.to_dict('records'):\n",
    "    print(\"row\",row)\n",
    "#     Agency.objects.create(**row)\n",
    "\n",
    "# bulk create\n",
    "Agency.objects.bulk_create([Agency(**row) for row in df_agency.to_dict('records')])"
   ]
  },
  {
   "cell_type": "code",
   "execution_count": 8,
   "metadata": {},
   "outputs": [
    {
     "data": {
      "text/html": [
       "<div>\n",
       "<style scoped>\n",
       "    .dataframe tbody tr th:only-of-type {\n",
       "        vertical-align: middle;\n",
       "    }\n",
       "\n",
       "    .dataframe tbody tr th {\n",
       "        vertical-align: top;\n",
       "    }\n",
       "\n",
       "    .dataframe thead th {\n",
       "        text-align: right;\n",
       "    }\n",
       "</style>\n",
       "<table border=\"1\" class=\"dataframe\">\n",
       "  <thead>\n",
       "    <tr style=\"text-align: right;\">\n",
       "      <th></th>\n",
       "      <th>agency_id</th>\n",
       "      <th>agency_name</th>\n",
       "      <th>agency_url</th>\n",
       "      <th>agency_timezone</th>\n",
       "      <th>agency_lang</th>\n",
       "      <th>agency_phone</th>\n",
       "      <th>agency_branding_url</th>\n",
       "      <th>agency_fare_url</th>\n",
       "      <th>agency_email</th>\n",
       "    </tr>\n",
       "  </thead>\n",
       "  <tbody>\n",
       "    <tr>\n",
       "      <th>0</th>\n",
       "      <td>999427adac028028a36ac4210d42a959</td>\n",
       "      <td>a1</td>\n",
       "      <td></td>\n",
       "      <td></td>\n",
       "      <td>None</td>\n",
       "      <td>None</td>\n",
       "      <td>None</td>\n",
       "      <td>None</td>\n",
       "      <td>None</td>\n",
       "    </tr>\n",
       "    <tr>\n",
       "      <th>1</th>\n",
       "      <td>35f115ba54f89222da2cc0d1a3074d30</td>\n",
       "      <td>nan</td>\n",
       "      <td>nan</td>\n",
       "      <td>nan</td>\n",
       "      <td>nan</td>\n",
       "      <td>nan</td>\n",
       "      <td>nan</td>\n",
       "      <td>nan</td>\n",
       "      <td>nan</td>\n",
       "    </tr>\n",
       "    <tr>\n",
       "      <th>2</th>\n",
       "      <td>3e4840d776769235ed1349561695448e</td>\n",
       "      <td>nan</td>\n",
       "      <td>nan</td>\n",
       "      <td>nan</td>\n",
       "      <td>nan</td>\n",
       "      <td>nan</td>\n",
       "      <td>nan</td>\n",
       "      <td>nan</td>\n",
       "      <td>nan</td>\n",
       "    </tr>\n",
       "    <tr>\n",
       "      <th>3</th>\n",
       "      <td>fbf97e9c5f8f75a3203efe06bb447065</td>\n",
       "      <td>nan</td>\n",
       "      <td>nan</td>\n",
       "      <td>nan</td>\n",
       "      <td>nan</td>\n",
       "      <td>nan</td>\n",
       "      <td>nan</td>\n",
       "      <td>nan</td>\n",
       "      <td>nan</td>\n",
       "    </tr>\n",
       "  </tbody>\n",
       "</table>\n",
       "</div>"
      ],
      "text/plain": [
       "                          agency_id agency_name agency_url agency_timezone  \\\n",
       "0  999427adac028028a36ac4210d42a959          a1                              \n",
       "1  35f115ba54f89222da2cc0d1a3074d30         nan        nan             nan   \n",
       "2  3e4840d776769235ed1349561695448e         nan        nan             nan   \n",
       "3  fbf97e9c5f8f75a3203efe06bb447065         nan        nan             nan   \n",
       "\n",
       "  agency_lang agency_phone agency_branding_url agency_fare_url agency_email  \n",
       "0        None         None                None            None         None  \n",
       "1         nan          nan                 nan             nan          nan  \n",
       "2         nan          nan                 nan             nan          nan  \n",
       "3         nan          nan                 nan             nan          nan  "
      ]
     },
     "execution_count": 8,
     "metadata": {},
     "output_type": "execute_result"
    }
   ],
   "source": [
    "queryset = Agency.objects.all()\n",
    "# load df\n",
    "df = pd.DataFrame.from_records(queryset.values())\n",
    "df"
   ]
  },
  {
   "cell_type": "markdown",
   "metadata": {},
   "source": [
    "queryset to df"
   ]
  }
 ],
 "metadata": {
  "kernelspec": {
   "display_name": "Python 3.10.9 ('mobilidade_rio_api')",
   "language": "python",
   "name": "python3"
  },
  "language_info": {
   "codemirror_mode": {
    "name": "ipython",
    "version": 3
   },
   "file_extension": ".py",
   "mimetype": "text/x-python",
   "name": "python",
   "nbconvert_exporter": "python",
   "pygments_lexer": "ipython3",
   "version": "3.10.9"
  },
  "vscode": {
   "interpreter": {
    "hash": "811a8f72235e9d7f1be6d00a6f96c69834b312ea92e4e5e4d2eb2c9747df7d9e"
   }
  }
 },
 "nbformat": 4,
 "nbformat_minor": 2
}
