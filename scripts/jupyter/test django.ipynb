{
 "cells": [
  {
   "cell_type": "markdown",
   "metadata": {},
   "source": [
    "# Tests for `predictor.utils`\n",
    "\n",
    "## How to use:\n",
    "\n",
    "Check your current kernel, if it's not the project's venv, change it:\n",
    "\n",
    "* Click the top right button to change the kernel to your project's venv (e.g. `'mobilidade_rio_api' (Python 3.10.8)` ([learn more](https://code.visualstudio.com/docs/python/jupyter-support-py#_connect-to-a-remote-jupyter-server))."
   ]
  },
  {
   "cell_type": "markdown",
   "metadata": {},
   "source": [
    "# Code"
   ]
  },
  {
   "cell_type": "markdown",
   "metadata": {},
   "source": [
    "Imports"
   ]
  },
  {
   "cell_type": "code",
   "execution_count": 1,
   "metadata": {},
   "outputs": [
    {
     "name": "stdout",
     "output_type": "stream",
     "text": [
      "db_name: postgres\n",
      "Env loaded: True\n"
     ]
    }
   ],
   "source": [
    "import init_django\n",
    "import pandas as pd\n",
    "# django\n",
    "from mobilidade_rio.pontos.models import *\n",
    "from mobilidade_rio.predictor.models import *\n",
    "# query\n",
    "from django.db import connection\n",
    "cur = connection.cursor() \n",
    "db_name = str(connection.settings_dict['NAME'])\n",
    "[db_name.rsplit(x, 1)[-1] for x in \"\\\\/.\"]\n",
    "# environment variables\n",
    "import os\n",
    "print(\"Env loaded:\", bool(os.environ.get('API_REALTIME')))"
   ]
  },
  {
   "cell_type": "markdown",
   "metadata": {},
   "source": [
    "test task"
   ]
  },
  {
   "cell_type": "code",
   "execution_count": 3,
   "metadata": {},
   "outputs": [
    {
     "name": "stdout",
     "output_type": "stream",
     "text": [
      "GR 2.1 df_realtime:    codigo    placa trip_short_name   latitude  longitude            dataHora  \\\n",
      "0  901008                       51 -22.964575 -43.392185 2023-02-06 10:24:29   \n",
      "1  901011  RIV8A74              53 -22.884430 -43.399342 2023-02-06 10:24:17   \n",
      "2  901018                       51 -22.869043 -43.413025 2023-02-06 10:24:13   \n",
      "3  901012                       22 -23.006863 -43.312332 2023-02-06 10:24:29   \n",
      "4  901014                       53 -23.000908 -43.367333 2023-02-06 09:58:18   \n",
      "\n",
      "   velocidade id_migracao_trajeto  direction_id  \\\n",
      "0         0.0                               1.0   \n",
      "1         0.0                               0.0   \n",
      "2        25.9                               0.0   \n",
      "3         0.0                               1.0   \n",
      "4         0.0                               1.0   \n",
      "\n",
      "                                         trajeto  hodometro  \n",
      "0      51 - SENTIDO V. MILITAR (PARADOR) [VOLTA]  45642.262  \n",
      "1         53 - SENTIDO ALVORADA (EXPRESSO) [IDA]  24229.043  \n",
      "2           51 - SENTIDO RECREIO (PARADOR) [IDA]   2512.300  \n",
      "3  22 - J. OCEÂNICO X ALVORADA (PARADOR) [VOLTA]  27949.845  \n",
      "4        53 - SENTIDO SULACAP (EXPRESSO) [VOLTA]   1478.400  \n"
     ]
    }
   ],
   "source": [
    "from mobilidade_rio.config_django_q import tasks\n",
    "# print(len(Prediction.objects.all()))\n",
    "tasks.generate_prediction()\n",
    "# print(len(Prediction.objects.all()))"
   ]
  },
  {
   "cell_type": "markdown",
   "metadata": {},
   "source": [
    "predictorView"
   ]
  },
  {
   "cell_type": "code",
   "execution_count": 49,
   "metadata": {},
   "outputs": [
    {
     "name": "stdout",
     "output_type": "stream",
     "text": [
      "O tipo do campo arrival_time é o mesmo na queryset original e na nova\n"
     ]
    },
    {
     "data": {
      "text/html": [
       "<div>\n",
       "<style scoped>\n",
       "    .dataframe tbody tr th:only-of-type {\n",
       "        vertical-align: middle;\n",
       "    }\n",
       "\n",
       "    .dataframe tbody tr th {\n",
       "        vertical-align: top;\n",
       "    }\n",
       "\n",
       "    .dataframe thead th {\n",
       "        text-align: right;\n",
       "    }\n",
       "</style>\n",
       "<table border=\"1\" class=\"dataframe\">\n",
       "  <thead>\n",
       "    <tr style=\"text-align: right;\">\n",
       "      <th></th>\n",
       "      <th>id</th>\n",
       "      <th>trip_id</th>\n",
       "      <th>stop_id</th>\n",
       "      <th>id_veiculo</th>\n",
       "      <th>latitude</th>\n",
       "      <th>longitude</th>\n",
       "      <th>dataHora</th>\n",
       "      <th>trip_short_name</th>\n",
       "      <th>direction_id</th>\n",
       "      <th>service_id</th>\n",
       "      <th>arrival_time</th>\n",
       "    </tr>\n",
       "  </thead>\n",
       "  <tbody>\n",
       "    <tr>\n",
       "      <th>0</th>\n",
       "      <td>14</td>\n",
       "      <td>d8619871-2c03-4309-9041-177097931b07</td>\n",
       "      <td>416115204000371</td>\n",
       "      <td>901018</td>\n",
       "      <td>-22.9632</td>\n",
       "      <td>-43.39368</td>\n",
       "      <td>2023-02-01 02:19:18.647544</td>\n",
       "      <td>51</td>\n",
       "      <td>1</td>\n",
       "      <td>U</td>\n",
       "      <td>0 days 00:00:09</td>\n",
       "    </tr>\n",
       "  </tbody>\n",
       "</table>\n",
       "</div>"
      ],
      "text/plain": [
       "   id                               trip_id          stop_id id_veiculo  \\\n",
       "0  14  d8619871-2c03-4309-9041-177097931b07  416115204000371     901018   \n",
       "\n",
       "   latitude  longitude                    dataHora trip_short_name  \\\n",
       "0  -22.9632  -43.39368  2023-02-01 02:19:18.647544              51   \n",
       "\n",
       "  direction_id service_id    arrival_time  \n",
       "0            1          U 0 days 00:00:09  "
      ]
     },
     "metadata": {},
     "output_type": "display_data"
    },
    {
     "name": "stdout",
     "output_type": "stream",
     "text": [
      "<class 'pandas.core.frame.DataFrame'>\n",
      "RangeIndex: 1 entries, 0 to 0\n",
      "Data columns (total 11 columns):\n",
      " #   Column           Non-Null Count  Dtype          \n",
      "---  ------           --------------  -----          \n",
      " 0   id               1 non-null      int64          \n",
      " 1   trip_id          1 non-null      object         \n",
      " 2   stop_id          1 non-null      object         \n",
      " 3   id_veiculo       1 non-null      object         \n",
      " 4   latitude         1 non-null      float64        \n",
      " 5   longitude        1 non-null      float64        \n",
      " 6   dataHora         1 non-null      object         \n",
      " 7   trip_short_name  1 non-null      object         \n",
      " 8   direction_id     1 non-null      object         \n",
      " 9   service_id       1 non-null      object         \n",
      " 10  arrival_time     1 non-null      timedelta64[ns]\n",
      "dtypes: float64(2), int64(1), object(7), timedelta64[ns](1)\n",
      "memory usage: 216.0+ bytes\n"
     ]
    },
    {
     "data": {
      "text/plain": [
       "None"
      ]
     },
     "metadata": {},
     "output_type": "display_data"
    },
    {
     "data": {
      "text/html": [
       "<div>\n",
       "<style scoped>\n",
       "    .dataframe tbody tr th:only-of-type {\n",
       "        vertical-align: middle;\n",
       "    }\n",
       "\n",
       "    .dataframe tbody tr th {\n",
       "        vertical-align: top;\n",
       "    }\n",
       "\n",
       "    .dataframe thead th {\n",
       "        text-align: right;\n",
       "    }\n",
       "</style>\n",
       "<table border=\"1\" class=\"dataframe\">\n",
       "  <thead>\n",
       "    <tr style=\"text-align: right;\">\n",
       "      <th></th>\n",
       "      <th>id</th>\n",
       "      <th>trip_id</th>\n",
       "      <th>stop_id</th>\n",
       "      <th>id_veiculo</th>\n",
       "      <th>latitude</th>\n",
       "      <th>longitude</th>\n",
       "      <th>dataHora</th>\n",
       "      <th>trip_short_name</th>\n",
       "      <th>direction_id</th>\n",
       "      <th>service_id</th>\n",
       "      <th>arrival_time</th>\n",
       "    </tr>\n",
       "  </thead>\n",
       "  <tbody>\n",
       "    <tr>\n",
       "      <th>0</th>\n",
       "      <td>14</td>\n",
       "      <td>d8619871-2c03-4309-9041-177097931b07</td>\n",
       "      <td>416115204000371</td>\n",
       "      <td>901018</td>\n",
       "      <td>-22.9632</td>\n",
       "      <td>-43.39368</td>\n",
       "      <td>2023-02-01 02:19:18.647544</td>\n",
       "      <td>51</td>\n",
       "      <td>1</td>\n",
       "      <td>U</td>\n",
       "      <td>0 days 00:00:01</td>\n",
       "    </tr>\n",
       "  </tbody>\n",
       "</table>\n",
       "</div>"
      ],
      "text/plain": [
       "   id                               trip_id          stop_id id_veiculo  \\\n",
       "0  14  d8619871-2c03-4309-9041-177097931b07  416115204000371     901018   \n",
       "\n",
       "   latitude  longitude                    dataHora trip_short_name  \\\n",
       "0  -22.9632  -43.39368  2023-02-01 02:19:18.647544              51   \n",
       "\n",
       "  direction_id service_id    arrival_time  \n",
       "0            1          U 0 days 00:00:01  "
      ]
     },
     "metadata": {},
     "output_type": "display_data"
    },
    {
     "name": "stdout",
     "output_type": "stream",
     "text": [
      "<class 'pandas.core.frame.DataFrame'>\n",
      "RangeIndex: 1 entries, 0 to 0\n",
      "Data columns (total 11 columns):\n",
      " #   Column           Non-Null Count  Dtype          \n",
      "---  ------           --------------  -----          \n",
      " 0   id               1 non-null      int64          \n",
      " 1   trip_id          1 non-null      object         \n",
      " 2   stop_id          1 non-null      object         \n",
      " 3   id_veiculo       1 non-null      object         \n",
      " 4   latitude         1 non-null      float64        \n",
      " 5   longitude        1 non-null      float64        \n",
      " 6   dataHora         1 non-null      object         \n",
      " 7   trip_short_name  1 non-null      object         \n",
      " 8   direction_id     1 non-null      object         \n",
      " 9   service_id       1 non-null      object         \n",
      " 10  arrival_time     1 non-null      timedelta64[ns]\n",
      "dtypes: float64(2), int64(1), object(7), timedelta64[ns](1)\n",
      "memory usage: 216.0+ bytes\n"
     ]
    },
    {
     "data": {
      "text/plain": [
       "None"
      ]
     },
     "metadata": {},
     "output_type": "display_data"
    }
   ],
   "source": [
    "import django.db.models as dm\n",
    "queryset = Prediction.objects.all().order_by(\n",
    "    \"dataHora\", \"trip_short_name\", \"stop_id\")\n",
    "\n",
    "# filtrar por trip_name (trip_short_name)\n",
    "trip_name = \"51\"\n",
    "if trip_name:\n",
    "    trip_name = trip_name.split(\",\")\n",
    "    queryset = queryset.filter(trip_short_name__in=trip_name)\n",
    "\n",
    "# calcular tempo de viagem até stop_id_destiny\n",
    "stop_id_destiny = \"533135204000271\"\n",
    "if stop_id_destiny:\n",
    "    stop_id_destiny = stop_id_destiny.split(\",\")\n",
    "    # TODO: 1. Ordenar por stop_sequence\n",
    "    # queryset = queryset.order_by(\"pk\")\n",
    "    # 2. Selecionar da linha que contém id_veiculo\n",
    "    veiculos = queryset.filter(id_veiculo__isnull=False, arrival_time__isnull=False)\n",
    "    # 3. Para cada veículo, selecionar paradas posteriores e somar arrival_time\n",
    "    df_veiculos = pd.DataFrame.from_records(veiculos.values())\n",
    "    for i, veiculo in enumerate(veiculos):\n",
    "        posteriores = queryset.filter(\n",
    "            pk__gt=veiculo.pk, trip_id=veiculo.trip_id, arrival_time__isnull=False)\n",
    "        posteriores_sum = list(posteriores.aggregate(dm.Sum(\"arrival_time\")).values())[0]\n",
    "        # print(\"VA\", veiculo.arrival_time, \"PS\", posteriores_sum)\n",
    "        arrival_time__new = veiculo.arrival_time + posteriores_sum\n",
    "        veiculo.arrival_time = arrival_time__new\n",
    "        # queryset can't be changed directly\n",
    "        df_veiculos.loc[i, \"arrival_time\"] = arrival_time__new\n",
    "\n",
    "        # ! Este método alteraria o modelo original\n",
    "        # veiculos.filter(pk=veiculo.pk).update(arrival_time=arrival_time__new)\n",
    "        # veiculo.update(arrival_time=veiculo.arrival_time + posteriores_sum)\n",
    "\n",
    "    # queryset = veiculos\n",
    "\n",
    "    queryset = [dict(zip([col for col in df_veiculos], row)) for row in df_veiculos.values]\n",
    "    # queryset = df_veiculos.to_dict(\"records\")\n",
    "    \n",
    "\n",
    "# from original queryset\n",
    "# df = pd.DataFrame.from_records(queryset.values())\n",
    "# from queryset as list of dicts\n",
    "df = pd.DataFrame(queryset)\n",
    "print(\"O tipo do campo arrival_time é o mesmo na queryset original e na nova\")\n",
    "display(df.head())\n",
    "display(df.info())\n",
    "# compare with original field\n",
    "df = pd.DataFrame.from_records(Prediction.objects.filter(pk__in=[14]).values())\n",
    "display(df.head())\n",
    "display(df.info())\n"
   ]
  },
  {
   "cell_type": "markdown",
   "metadata": {},
   "source": [
    "# Tests"
   ]
  },
  {
   "cell_type": "markdown",
   "metadata": {},
   "source": [
    "Maybe feature: set types from db"
   ]
  },
  {
   "cell_type": "code",
   "execution_count": 2,
   "metadata": {},
   "outputs": [
    {
     "ename": "KeyError",
     "evalue": "'time without time zone'",
     "output_type": "error",
     "traceback": [
      "\u001b[1;31m---------------------------------------------------------------------------\u001b[0m",
      "\u001b[1;31mKeyError\u001b[0m                                  Traceback (most recent call last)",
      "Cell \u001b[1;32mIn [2], line 19\u001b[0m\n\u001b[0;32m     16\u001b[0m fields \u001b[39m=\u001b[39m [\u001b[39mdict\u001b[39m(\u001b[39mzip\u001b[39m(cols, row)) \u001b[39mfor\u001b[39;00m row \u001b[39min\u001b[39;00m cur\u001b[39m.\u001b[39mfetchall()]\n\u001b[0;32m     18\u001b[0m \u001b[39m# convert types\u001b[39;00m\n\u001b[1;32m---> 19\u001b[0m fields_converted \u001b[39m=\u001b[39m {x[\u001b[39m'\u001b[39m\u001b[39mcol\u001b[39m\u001b[39m'\u001b[39m]: postgres_pandas_types[x[\u001b[39m'\u001b[39m\u001b[39mtype\u001b[39m\u001b[39m'\u001b[39m]] \u001b[39mfor\u001b[39;00m x \u001b[39min\u001b[39;00m fields}\n\u001b[0;32m     22\u001b[0m \u001b[39m# test\u001b[39;00m\n\u001b[0;32m     23\u001b[0m \u001b[39m# get first 3 rows\u001b[39;00m\n\u001b[0;32m     24\u001b[0m df \u001b[39m=\u001b[39m pd\u001b[39m.\u001b[39mDataFrame\u001b[39m.\u001b[39mfrom_records(Prediction\u001b[39m.\u001b[39mobjects\u001b[39m.\u001b[39mall()[:\u001b[39m3\u001b[39m]\u001b[39m.\u001b[39mvalues())\n",
      "Cell \u001b[1;32mIn [2], line 19\u001b[0m, in \u001b[0;36m<dictcomp>\u001b[1;34m(.0)\u001b[0m\n\u001b[0;32m     16\u001b[0m fields \u001b[39m=\u001b[39m [\u001b[39mdict\u001b[39m(\u001b[39mzip\u001b[39m(cols, row)) \u001b[39mfor\u001b[39;00m row \u001b[39min\u001b[39;00m cur\u001b[39m.\u001b[39mfetchall()]\n\u001b[0;32m     18\u001b[0m \u001b[39m# convert types\u001b[39;00m\n\u001b[1;32m---> 19\u001b[0m fields_converted \u001b[39m=\u001b[39m {x[\u001b[39m'\u001b[39m\u001b[39mcol\u001b[39m\u001b[39m'\u001b[39m]: postgres_pandas_types[x[\u001b[39m'\u001b[39;49m\u001b[39mtype\u001b[39;49m\u001b[39m'\u001b[39;49m]] \u001b[39mfor\u001b[39;00m x \u001b[39min\u001b[39;00m fields}\n\u001b[0;32m     22\u001b[0m \u001b[39m# test\u001b[39;00m\n\u001b[0;32m     23\u001b[0m \u001b[39m# get first 3 rows\u001b[39;00m\n\u001b[0;32m     24\u001b[0m df \u001b[39m=\u001b[39m pd\u001b[39m.\u001b[39mDataFrame\u001b[39m.\u001b[39mfrom_records(Prediction\u001b[39m.\u001b[39mobjects\u001b[39m.\u001b[39mall()[:\u001b[39m3\u001b[39m]\u001b[39m.\u001b[39mvalues())\n",
      "\u001b[1;31mKeyError\u001b[0m: 'time without time zone'"
     ]
    }
   ],
   "source": [
    "# map\n",
    "postgres_pandas_types = {\n",
    "    'integer': 'int64',\n",
    "    'character varying': 'str',\n",
    "    'double precision': 'float64',\n",
    "}\n",
    "\n",
    "# get columns and types\n",
    "query_col_types = f\"\"\"\n",
    "select column_name as col, data_type as type\n",
    "from information_schema.columns\n",
    "where table_name = '{Prediction._meta.db_table}'\n",
    "\"\"\"\n",
    "cur.execute(query_col_types)\n",
    "cols = [desc[0] for desc in cur.description]\n",
    "fields = [dict(zip(cols, row)) for row in cur.fetchall()]\n",
    "\n",
    "# convert types\n",
    "fields_converted = {x['col']: postgres_pandas_types[x['type']] for x in fields}\n",
    "\n",
    "\n",
    "# test\n",
    "# get first 3 rows\n",
    "df = pd.DataFrame.from_records(Prediction.objects.all()[:3].values())\n",
    "df = df.astype(fields_converted)\n",
    "# change direction_id[0]\n",
    "df.at[0, 'direction_id'] = pd.NA\n",
    "df.at[0, 'id'] = 6666\n",
    "# convert and clear\n",
    "df = df.replace({pd.NA: None})\n",
    "df = df.replace({\"<NA>\": None})\n",
    "# df = df.astype(str)\n",
    "df.head(3)\n",
    "# insert first row\n",
    "Prediction.objects.create(**df.iloc[0].to_dict())"
   ]
  },
  {
   "cell_type": "markdown",
   "metadata": {},
   "source": [
    "Add df to django ORM"
   ]
  },
  {
   "cell_type": "code",
   "execution_count": 3,
   "metadata": {},
   "outputs": [
    {
     "data": {
      "text/html": [
       "<div>\n",
       "<style scoped>\n",
       "    .dataframe tbody tr th:only-of-type {\n",
       "        vertical-align: middle;\n",
       "    }\n",
       "\n",
       "    .dataframe tbody tr th {\n",
       "        vertical-align: top;\n",
       "    }\n",
       "\n",
       "    .dataframe thead th {\n",
       "        text-align: right;\n",
       "    }\n",
       "</style>\n",
       "<table border=\"1\" class=\"dataframe\">\n",
       "  <thead>\n",
       "    <tr style=\"text-align: right;\">\n",
       "      <th></th>\n",
       "      <th>agency_id</th>\n",
       "      <th>agency_name</th>\n",
       "      <th>agency_url</th>\n",
       "      <th>agency_timezone</th>\n",
       "      <th>agency_lang</th>\n",
       "      <th>agency_phone</th>\n",
       "      <th>agency_branding_url</th>\n",
       "      <th>agency_fare_url</th>\n",
       "      <th>agency_email</th>\n",
       "    </tr>\n",
       "  </thead>\n",
       "  <tbody>\n",
       "    <tr>\n",
       "      <th>0</th>\n",
       "      <td>999427adac028028a36ac4210d42a959</td>\n",
       "      <td>a1</td>\n",
       "      <td></td>\n",
       "      <td></td>\n",
       "      <td>None</td>\n",
       "      <td>None</td>\n",
       "      <td>None</td>\n",
       "      <td>None</td>\n",
       "      <td>None</td>\n",
       "    </tr>\n",
       "    <tr>\n",
       "      <th>1</th>\n",
       "      <td>35f115ba54f89222da2cc0d1a3074d30</td>\n",
       "      <td>NaN</td>\n",
       "      <td>NaN</td>\n",
       "      <td>NaN</td>\n",
       "      <td>NaN</td>\n",
       "      <td>NaN</td>\n",
       "      <td>NaN</td>\n",
       "      <td>NaN</td>\n",
       "      <td>NaN</td>\n",
       "    </tr>\n",
       "    <tr>\n",
       "      <th>2</th>\n",
       "      <td>3e4840d776769235ed1349561695448e</td>\n",
       "      <td>NaN</td>\n",
       "      <td>NaN</td>\n",
       "      <td>NaN</td>\n",
       "      <td>NaN</td>\n",
       "      <td>NaN</td>\n",
       "      <td>NaN</td>\n",
       "      <td>NaN</td>\n",
       "      <td>NaN</td>\n",
       "    </tr>\n",
       "    <tr>\n",
       "      <th>3</th>\n",
       "      <td>fbf97e9c5f8f75a3203efe06bb447065</td>\n",
       "      <td>NaN</td>\n",
       "      <td>NaN</td>\n",
       "      <td>NaN</td>\n",
       "      <td>NaN</td>\n",
       "      <td>NaN</td>\n",
       "      <td>NaN</td>\n",
       "      <td>NaN</td>\n",
       "      <td>NaN</td>\n",
       "    </tr>\n",
       "  </tbody>\n",
       "</table>\n",
       "</div>"
      ],
      "text/plain": [
       "                          agency_id agency_name agency_url agency_timezone  \\\n",
       "0  999427adac028028a36ac4210d42a959          a1                              \n",
       "1  35f115ba54f89222da2cc0d1a3074d30         NaN        NaN             NaN   \n",
       "2  3e4840d776769235ed1349561695448e         NaN        NaN             NaN   \n",
       "3  fbf97e9c5f8f75a3203efe06bb447065         NaN        NaN             NaN   \n",
       "\n",
       "  agency_lang agency_phone agency_branding_url agency_fare_url agency_email  \n",
       "0        None         None                None            None         None  \n",
       "1         NaN          NaN                 NaN             NaN          NaN  \n",
       "2         NaN          NaN                 NaN             NaN          NaN  \n",
       "3         NaN          NaN                 NaN             NaN          NaN  "
      ]
     },
     "metadata": {},
     "output_type": "display_data"
    },
    {
     "name": "stdout",
     "output_type": "stream",
     "text": [
      "row {'agency_id': '999427adac028028a36ac4210d42a959', 'agency_name': 'a1', 'agency_url': '', 'agency_timezone': '', 'agency_lang': None, 'agency_phone': None, 'agency_branding_url': None, 'agency_fare_url': None, 'agency_email': None}\n",
      "row {'agency_id': '35f115ba54f89222da2cc0d1a3074d30', 'agency_name': nan, 'agency_url': nan, 'agency_timezone': nan, 'agency_lang': nan, 'agency_phone': nan, 'agency_branding_url': nan, 'agency_fare_url': nan, 'agency_email': nan}\n",
      "row {'agency_id': '3e4840d776769235ed1349561695448e', 'agency_name': nan, 'agency_url': nan, 'agency_timezone': nan, 'agency_lang': nan, 'agency_phone': nan, 'agency_branding_url': nan, 'agency_fare_url': nan, 'agency_email': nan}\n",
      "row {'agency_id': 'fbf97e9c5f8f75a3203efe06bb447065', 'agency_name': nan, 'agency_url': nan, 'agency_timezone': nan, 'agency_lang': nan, 'agency_phone': nan, 'agency_branding_url': nan, 'agency_fare_url': nan, 'agency_email': nan}\n"
     ]
    },
    {
     "data": {
      "text/plain": [
       "[<Agency: Agency object (999427adac028028a36ac4210d42a959)>,\n",
       " <Agency: Agency object (35f115ba54f89222da2cc0d1a3074d30)>,\n",
       " <Agency: Agency object (3e4840d776769235ed1349561695448e)>,\n",
       " <Agency: Agency object (fbf97e9c5f8f75a3203efe06bb447065)>]"
      ]
     },
     "execution_count": 3,
     "metadata": {},
     "output_type": "execute_result"
    }
   ],
   "source": [
    "import hashlib\n",
    "\n",
    "Agency.objects.all().delete()\n",
    "# create df based on model\n",
    "new_agency = Agency(\n",
    "    agency_name = 'a1',\n",
    ")\n",
    "df_agency = pd.DataFrame([new_agency.__dict__])\n",
    "df_agency = df_agency.drop(['_state'], axis=1)\n",
    "# set random pk\n",
    "random_md5 = hashlib.md5(os.urandom(128)).hexdigest()\n",
    "df_agency['agency_id'] = random_md5\n",
    "\n",
    "# add 3 random items\n",
    "for i in range(3):\n",
    "    random_md5 = hashlib.md5(os.urandom(128)).hexdigest()\n",
    "    # concat with new values\n",
    "    df_agency = pd.concat([df_agency, pd.DataFrame([{'agency_id': random_md5}])], ignore_index=True)\n",
    "\n",
    "display(df_agency)\n",
    "for row in df_agency.to_dict('records'):\n",
    "    print(\"row\",row)\n",
    "#     Agency.objects.create(**row)\n",
    "\n",
    "# bulk create\n",
    "Agency.objects.bulk_create([Agency(**row) for row in df_agency.to_dict('records')])"
   ]
  },
  {
   "cell_type": "code",
   "execution_count": 8,
   "metadata": {},
   "outputs": [
    {
     "data": {
      "text/html": [
       "<div>\n",
       "<style scoped>\n",
       "    .dataframe tbody tr th:only-of-type {\n",
       "        vertical-align: middle;\n",
       "    }\n",
       "\n",
       "    .dataframe tbody tr th {\n",
       "        vertical-align: top;\n",
       "    }\n",
       "\n",
       "    .dataframe thead th {\n",
       "        text-align: right;\n",
       "    }\n",
       "</style>\n",
       "<table border=\"1\" class=\"dataframe\">\n",
       "  <thead>\n",
       "    <tr style=\"text-align: right;\">\n",
       "      <th></th>\n",
       "      <th>agency_id</th>\n",
       "      <th>agency_name</th>\n",
       "      <th>agency_url</th>\n",
       "      <th>agency_timezone</th>\n",
       "      <th>agency_lang</th>\n",
       "      <th>agency_phone</th>\n",
       "      <th>agency_branding_url</th>\n",
       "      <th>agency_fare_url</th>\n",
       "      <th>agency_email</th>\n",
       "    </tr>\n",
       "  </thead>\n",
       "  <tbody>\n",
       "    <tr>\n",
       "      <th>0</th>\n",
       "      <td>999427adac028028a36ac4210d42a959</td>\n",
       "      <td>a1</td>\n",
       "      <td></td>\n",
       "      <td></td>\n",
       "      <td>None</td>\n",
       "      <td>None</td>\n",
       "      <td>None</td>\n",
       "      <td>None</td>\n",
       "      <td>None</td>\n",
       "    </tr>\n",
       "    <tr>\n",
       "      <th>1</th>\n",
       "      <td>35f115ba54f89222da2cc0d1a3074d30</td>\n",
       "      <td>nan</td>\n",
       "      <td>nan</td>\n",
       "      <td>nan</td>\n",
       "      <td>nan</td>\n",
       "      <td>nan</td>\n",
       "      <td>nan</td>\n",
       "      <td>nan</td>\n",
       "      <td>nan</td>\n",
       "    </tr>\n",
       "    <tr>\n",
       "      <th>2</th>\n",
       "      <td>3e4840d776769235ed1349561695448e</td>\n",
       "      <td>nan</td>\n",
       "      <td>nan</td>\n",
       "      <td>nan</td>\n",
       "      <td>nan</td>\n",
       "      <td>nan</td>\n",
       "      <td>nan</td>\n",
       "      <td>nan</td>\n",
       "      <td>nan</td>\n",
       "    </tr>\n",
       "    <tr>\n",
       "      <th>3</th>\n",
       "      <td>fbf97e9c5f8f75a3203efe06bb447065</td>\n",
       "      <td>nan</td>\n",
       "      <td>nan</td>\n",
       "      <td>nan</td>\n",
       "      <td>nan</td>\n",
       "      <td>nan</td>\n",
       "      <td>nan</td>\n",
       "      <td>nan</td>\n",
       "      <td>nan</td>\n",
       "    </tr>\n",
       "  </tbody>\n",
       "</table>\n",
       "</div>"
      ],
      "text/plain": [
       "                          agency_id agency_name agency_url agency_timezone  \\\n",
       "0  999427adac028028a36ac4210d42a959          a1                              \n",
       "1  35f115ba54f89222da2cc0d1a3074d30         nan        nan             nan   \n",
       "2  3e4840d776769235ed1349561695448e         nan        nan             nan   \n",
       "3  fbf97e9c5f8f75a3203efe06bb447065         nan        nan             nan   \n",
       "\n",
       "  agency_lang agency_phone agency_branding_url agency_fare_url agency_email  \n",
       "0        None         None                None            None         None  \n",
       "1         nan          nan                 nan             nan          nan  \n",
       "2         nan          nan                 nan             nan          nan  \n",
       "3         nan          nan                 nan             nan          nan  "
      ]
     },
     "execution_count": 8,
     "metadata": {},
     "output_type": "execute_result"
    }
   ],
   "source": [
    "queryset = Agency.objects.all()\n",
    "# load df\n",
    "df = pd.DataFrame.from_records(queryset.values())\n",
    "df"
   ]
  },
  {
   "cell_type": "markdown",
   "metadata": {},
   "source": [
    "queryset to df"
   ]
  }
 ],
 "metadata": {
  "kernelspec": {
   "display_name": "Python 3.10.9 ('mobilidade_rio_api')",
   "language": "python",
   "name": "python3"
  },
  "language_info": {
   "codemirror_mode": {
    "name": "ipython",
    "version": 3
   },
   "file_extension": ".py",
   "mimetype": "text/x-python",
   "name": "python",
   "nbconvert_exporter": "python",
   "pygments_lexer": "ipython3",
   "version": "3.10.9"
  },
  "vscode": {
   "interpreter": {
    "hash": "811a8f72235e9d7f1be6d00a6f96c69834b312ea92e4e5e4d2eb2c9747df7d9e"
   }
  }
 },
 "nbformat": 4,
 "nbformat_minor": 2
}
