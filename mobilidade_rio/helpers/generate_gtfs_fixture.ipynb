{
 "cells": [
  {
   "cell_type": "code",
   "execution_count": 13,
   "id": "9b3946b4-9fb1-4956-bf97-e268b6e7a2d0",
   "metadata": {},
   "outputs": [],
   "source": [
    "import json\n",
    "from typing import List, Union\n",
    "from pathlib import Path\n",
    "import re\n",
    "\n",
    "import pandas as pd\n",
    "import requests\n",
    "import yaml"
   ]
  },
  {
   "cell_type": "code",
   "execution_count": 14,
   "id": "820abaa6-9287-4ac0-9fb4-43b1ed2b7466",
   "metadata": {
    "tags": []
   },
   "outputs": [],
   "source": [
    "CONFIG_FILENAME = \"/home/jovyan/work/data/gtfs-22-nov/config_gtfs.yaml\"#\"config_gtfs.yaml\""
   ]
  },
  {
   "cell_type": "code",
   "execution_count": 15,
   "id": "ec17f9e0-6ac2-4e57-9a9b-c7c921d96952",
   "metadata": {},
   "outputs": [],
   "source": [
    "def load_csv(filepath: Union[str, Path]) -> pd.DataFrame:\n",
    "    \"\"\"\n",
    "    Carrega o arquivo CSV e retorna um DataFrame.\n",
    "    \"\"\"\n",
    "    return pd.read_csv(filepath)\n",
    "\n",
    "def dump_fixtures(fixtures: List[dict], filepath: Union[str, Path]):\n",
    "    \"\"\"\n",
    "    Salva os fixtures em um arquivo JSON.\n",
    "    \"\"\"\n",
    "    with open(filepath, \"w\") as f:\n",
    "        json.dump(fixtures, f, indent=4)\n",
    "\n",
    "def resolve_e(case,record,i):\n",
    "    if case == 'trip_id[12:15]':\n",
    "        return record['trip_id'][12:15]\n",
    "    if case =='i':\n",
    "        return str(i)\n",
    "    if case == \"\": #TODO: resolver o caso da via.\n",
    "        return \"\"\n",
    "    if case == \"stop_id[4:5]\":\n",
    "        return record[\"stop_id\"][4:5]\n",
    "    if case in ['3',3]:#set modal hard coded.\n",
    "        return int(3)\n",
    "    \n",
    "#usado aqui para controlar a execução de fixtures sem alterar arquivos.\n",
    "a={}\n",
    "def gtfs_to_fixtures(dataframe, config_json, model, trip_list):\n",
    "    fixtures = [] \n",
    "    k=config_json[\"json\"][\"fields\"].keys()\n",
    "    print(k)\n",
    "    e=['trip_id[12:15]', \"i\",\"\",\"stop_id[4:5]\",3,\"3\"]\n",
    "    for i, record in dataframe.iterrows():\n",
    "        result = {\n",
    "                \"model\": \"pontos.\"+config_json[\"json\"][\"model\"],\n",
    "                \"pk\": record[config_json[\"json\"][\"pk\"]] if config_json[\"json\"][\"pk\"] not in e else resolve_e(config_json[\"json\"][\"pk\"],record,i),\n",
    "                \"fields\": dict.fromkeys(k,\"\")\n",
    "            }\n",
    "        \n",
    "        #print(result)\n",
    "        for item in k:\n",
    "            if config_json[\"json\"][\"fields\"][item] not in e:\n",
    "                result[\"fields\"][item]=record[config_json[\"json\"][\"fields\"][item]]\n",
    "            else:\n",
    "                result[\"fields\"][item]=resolve_e(config_json[\"json\"][\"fields\"][item],record,i)\n",
    "        \n",
    "            if model ==\"agency\":\n",
    "                result[\"pk\"]=str(result[\"pk\"])\n",
    "            if model ==\"sequence\":\n",
    "                result[\"pk\"]=int(result[\"pk\"])\n",
    "            if model ==\"route\":\n",
    "                result[\"fields\"]['agency']=str(result[\"fields\"]['agency'])\n",
    "            if model ==\"trip\":\n",
    "                #result[\"fields\"]['direction']=int(result[\"fields\"]['direction'])\n",
    "                if result[\"fields\"]['headsign']!=result[\"fields\"]['headsign']:#check for NaN\n",
    "                    result[\"fields\"]['headsign']=\"\"\n",
    "                \n",
    "            if model ==\"stop\":\n",
    "                result[\"fields\"]['latitude']=str(result[\"fields\"]['latitude'])\n",
    "                result[\"fields\"]['longitude']=str(result[\"fields\"]['longitude'])\n",
    "                #if result[\"fields\"]['mode']==\"\": #erro gtfsv2 id sem mode, hardcoded\n",
    "                #result[\"fields\"]['mode']=3\n",
    "            \n",
    "            #if model in [\"linha\",\"route\"]:\n",
    "                #if result[\"fields\"]['mode'] not in list(ID_MODAL.values()): #erro gtfsv2 id sem mode, hardcoded\n",
    "                #result[\"fields\"]['mode']=3\n",
    "\n",
    "        #if model == \"trip\":\n",
    "        #   if result[\"pk\"] not in trip_list:\n",
    "        #       trip_list.append(result[\"pk\"])\n",
    "        #       fixtures.append(result)\n",
    "        if model == \"sequence\" and result[\"fields\"][\"trip\"] in trip_list:# retira trips que são SNs\n",
    "            fixtures.append(result)\n",
    "        if model not in [\"sequence\"]:\n",
    "            fixtures.append(result)\n",
    "    \n",
    "    dump_fixtures(fixtures, f\"/home/jovyan/work/data/gtfs-22-nov/{model}.json\")\n",
    "    display(f\"Adicionado {len(fixtures)} a {model}\")"
   ]
  },
  {
   "cell_type": "code",
   "execution_count": 16,
   "id": "14947539-346b-49de-a9a7-2771595b33a2",
   "metadata": {
    "tags": []
   },
   "outputs": [
    {
     "name": "stdout",
     "output_type": "stream",
     "text": [
      "dicionarios de para geração dos ids preparados\n"
     ]
    }
   ],
   "source": [
    "# casos especiais:\n",
    "#(caso1) id_modal>30 and id_modal<40 --> I\n",
    "#(caso2) not id_modal --> J\n",
    "ID_MODAL={\n",
    "    'MM':'M',\n",
    "    '10':'M',\n",
    "    '11':'T',\n",
    "    '12':'V',\n",
    "    '13':'S',\n",
    "    '14':'P',\n",
    "    '20':'B',\n",
    "    '21':'H', \n",
    "    '22':'O',\n",
    "    '23':'E',\n",
    "    '30':'I',\n",
    "    '31 a 39':'I',\n",
    "    '----':'J',\n",
    "    '40':'L',\n",
    "    '41':'C',\n",
    "    '50':'F',\n",
    "    '60':'A'\n",
    "}\n",
    "\n",
    "def translate_to_new_mode(mode):\n",
    "    \n",
    "    if mode!='MM' and int(mode)>30 and int(mode)<39:\n",
    "        return \"I\"\n",
    "    if str(mode) not in ID_MODAL:\n",
    "        return \"J\"\n",
    "    else:\n",
    "        return ID_MODAL[str(mode)]\n",
    "    \n",
    "\n",
    "ID_CORREDOR={\n",
    "    '0':'0',\n",
    "    '1':'O',\n",
    "    '2':'M',\n",
    "    '3':'C',\n",
    "    '4':'L',\n",
    "    '5':'B',\n",
    "    '6':'Z',\n",
    "    '7':'Y'\n",
    "}\n",
    "\n",
    "def translate_to_new_corredor(corredor):\n",
    "    return ID_CORREDOR[corredor]\n",
    "\n",
    "\n",
    "TIPO_PARADA={\n",
    "    '0':'0',\n",
    "    '1':'C',\n",
    "    '2':'A',\n",
    "    '4':'P',\n",
    "    '5':'E',\n",
    "    '6':'S',\n",
    "    '7':'U',\n",
    "    '8':'X',\n",
    "    '9':'T'\n",
    "}\n",
    "def translate_to_new_parada(parada):\n",
    "    return TIPO_PARADA[parada]\n",
    "\n",
    "print('dicionarios de para geração dos ids preparados')\n",
    "\n",
    "def treat_results(stop,code,count,i):\n",
    "    return {\n",
    "            \"model\": \"pontos.qrcode\",\n",
    "            \"pk\": count+i,\n",
    "            \"fields\": {\n",
    "                \"stop\": stop,\n",
    "                \"code\": code,\n",
    "            }\n",
    "    }\n",
    "\n",
    "def convert_old_to_new_stop(stop):\n",
    "    return stop[0:1]+stop[3:6]+translate_to_new_mode(stop[6:8])+translate_to_new_corredor(stop[8])+stop[-6:-2]+translate_to_new_parada(stop[-2])+stop[-1:]\n",
    "    #return stop"
   ]
  },
  {
   "cell_type": "code",
   "execution_count": 17,
   "id": "e22d67b0-73de-447e-a149-190e85517d9a",
   "metadata": {
    "tags": []
   },
   "outputs": [
    {
     "data": {
      "text/plain": [
       "dict_keys(['agency', 'linha', 'route', 'trip', 'stop', 'sequence', 'qrcode'])"
      ]
     },
     "execution_count": 17,
     "metadata": {},
     "output_type": "execute_result"
    }
   ],
   "source": [
    "config = yaml.load(\n",
    "        open(CONFIG_FILENAME, \"r\"), \n",
    "        Loader=yaml.FullLoader\n",
    "    )\n",
    "\n",
    "config[\"models\"].keys()"
   ]
  },
  {
   "cell_type": "code",
   "execution_count": 18,
   "id": "5c39d1c9-83bc-4999-931f-9ac4064bd5df",
   "metadata": {
    "tags": []
   },
   "outputs": [
    {
     "data": {
      "text/plain": [
       "'agency  5'"
      ]
     },
     "metadata": {},
     "output_type": "display_data"
    },
    {
     "name": "stdout",
     "output_type": "stream",
     "text": [
      "dict_keys(['name'])\n"
     ]
    },
    {
     "data": {
      "text/plain": [
       "'Adicionado 5 a agency'"
      ]
     },
     "metadata": {},
     "output_type": "display_data"
    },
    {
     "name": "stderr",
     "output_type": "stream",
     "text": [
      "/tmp/ipykernel_73/3146840706.py:37: UserWarning: This pattern is interpreted as a regular expression, and has match groups. To actually get the groups, use str.extract.\n",
      "  dataframe=dataframe.loc[dataframe[\"route_short_name\"].str.contains(\"(SN)\")==False]\n"
     ]
    },
    {
     "data": {
      "text/plain": [
       "'linha  370'"
      ]
     },
     "metadata": {},
     "output_type": "display_data"
    },
    {
     "name": "stdout",
     "output_type": "stream",
     "text": [
      "dict_keys(['agency', 'mode', 'initials', 'name'])\n"
     ]
    },
    {
     "data": {
      "text/plain": [
       "'Adicionado 370 a linha'"
      ]
     },
     "metadata": {},
     "output_type": "display_data"
    },
    {
     "name": "stderr",
     "output_type": "stream",
     "text": [
      "/tmp/ipykernel_73/3146840706.py:37: UserWarning: This pattern is interpreted as a regular expression, and has match groups. To actually get the groups, use str.extract.\n",
      "  dataframe=dataframe.loc[dataframe[\"route_short_name\"].str.contains(\"(SN)\")==False]\n"
     ]
    },
    {
     "data": {
      "text/plain": [
       "'route  370'"
      ]
     },
     "metadata": {},
     "output_type": "display_data"
    },
    {
     "name": "stdout",
     "output_type": "stream",
     "text": [
      "dict_keys(['linha', 'agency', 'mode', 'short_name', 'vista'])\n"
     ]
    },
    {
     "data": {
      "text/plain": [
       "'Adicionado 370 a route'"
      ]
     },
     "metadata": {},
     "output_type": "display_data"
    },
    {
     "data": {
      "text/plain": [
       "'trip  677'"
      ]
     },
     "metadata": {},
     "output_type": "display_data"
    },
    {
     "name": "stdout",
     "output_type": "stream",
     "text": [
      "dict_keys(['route', 'headsign', 'via', 'version', 'direction'])\n"
     ]
    },
    {
     "data": {
      "text/plain": [
       "'Adicionado 677 a trip'"
      ]
     },
     "metadata": {},
     "output_type": "display_data"
    },
    {
     "data": {
      "text/plain": [
       "'stop  8997'"
      ]
     },
     "metadata": {},
     "output_type": "display_data"
    },
    {
     "name": "stdout",
     "output_type": "stream",
     "text": [
      "dict_keys(['mode', 'name', 'address', 'latitude', 'longitude'])\n"
     ]
    },
    {
     "data": {
      "text/plain": [
       "'Adicionado 8997 a stop'"
      ]
     },
     "metadata": {},
     "output_type": "display_data"
    },
    {
     "name": "stderr",
     "output_type": "stream",
     "text": [
      "/tmp/ipykernel_73/3146840706.py:6: DtypeWarning: Columns (5) have mixed types. Specify dtype option on import or set low_memory=False.\n",
      "  dataframe = pd.read_csv( config_json['source'] )\n"
     ]
    },
    {
     "data": {
      "text/html": [
       "<div>\n",
       "<style scoped>\n",
       "    .dataframe tbody tr th:only-of-type {\n",
       "        vertical-align: middle;\n",
       "    }\n",
       "\n",
       "    .dataframe tbody tr th {\n",
       "        vertical-align: top;\n",
       "    }\n",
       "\n",
       "    .dataframe thead th {\n",
       "        text-align: right;\n",
       "    }\n",
       "</style>\n",
       "<table border=\"1\" class=\"dataframe\">\n",
       "  <thead>\n",
       "    <tr style=\"text-align: right;\">\n",
       "      <th></th>\n",
       "      <th>trip_id</th>\n",
       "      <th>stop_sequence</th>\n",
       "      <th>stop_id</th>\n",
       "      <th>arrival_time</th>\n",
       "      <th>departure_time</th>\n",
       "      <th>stop_headsign</th>\n",
       "      <th>pickup_type</th>\n",
       "      <th>drop_off_type</th>\n",
       "      <th>continuous_pickup</th>\n",
       "      <th>continuous_drop_off</th>\n",
       "      <th>shape_dist_traveled</th>\n",
       "      <th>timepoint</th>\n",
       "    </tr>\n",
       "  </thead>\n",
       "  <tbody>\n",
       "  </tbody>\n",
       "</table>\n",
       "</div>"
      ],
      "text/plain": [
       "Empty DataFrame\n",
       "Columns: [trip_id, stop_sequence, stop_id, arrival_time, departure_time, stop_headsign, pickup_type, drop_off_type, continuous_pickup, continuous_drop_off, shape_dist_traveled, timepoint]\n",
       "Index: []"
      ]
     },
     "metadata": {},
     "output_type": "display_data"
    },
    {
     "data": {
      "text/plain": [
       "'sequence  38262'"
      ]
     },
     "metadata": {},
     "output_type": "display_data"
    },
    {
     "name": "stdout",
     "output_type": "stream",
     "text": [
      "dict_keys(['trip', 'stop', 'order'])\n"
     ]
    },
    {
     "data": {
      "text/plain": [
       "'Adicionado 38262 a sequence'"
      ]
     },
     "metadata": {},
     "output_type": "display_data"
    },
    {
     "data": {
      "text/plain": [
       "'qrcode  8997'"
      ]
     },
     "metadata": {},
     "output_type": "display_data"
    },
    {
     "name": "stdout",
     "output_type": "stream",
     "text": [
      "dict_keys(['stop', 'code'])\n"
     ]
    },
    {
     "data": {
      "text/plain": [
       "'Adicionado 8997 a qrcode'"
      ]
     },
     "metadata": {},
     "output_type": "display_data"
    }
   ],
   "source": [
    "trip_list=[]\n",
    "#usado para gerar todos os arquivos de fixture descritos em config.yml \n",
    "#trip precisa ser gerando antes de sequence \n",
    "for model in config[\"models\"].keys():\n",
    "    config_json=config[\"models\"][model]\n",
    "    dataframe = pd.read_csv( config_json['source'] )\n",
    "    if model == \"sequence\":\n",
    "        #trip_list=pd.json_normalize(json.load(open(\"../fixtures/trip.json\")))['pk'].tolist()\n",
    "        trip_list=pd.json_normalize(json.load(open(\"/home/jovyan/work/data/gtfs-22-nov/trip.json\")))['pk'].tolist()\n",
    "        dataframe[\"trip_id\"]= dataframe[\"trip_id\"].str.split(\"_\").str[0]\n",
    "        dataframe.drop_duplicates(subset=['trip_id', 'stop_id'], keep=\"first\", inplace=True)\n",
    "        dataframe = dataframe.loc[dataframe[\"trip_id\"].isin(trip_list)]\n",
    "        \n",
    "        #retirando stop_id inexistentes\n",
    "        stop_list=pd.json_normalize(json.load(open(\"/home/jovyan/work/data/gtfs-22-nov/stop.json\")))['pk'].tolist()\n",
    "        dataframe = dataframe.loc[dataframe[\"stop_id\"].isin(stop_list)==True]\n",
    "        display(dataframe.loc[dataframe[\"stop_id\"].isin(stop_list)==False])\n",
    "     \n",
    "    if model == \"trip\":\n",
    "        trip_list=[]\n",
    "        #route_list=pd.json_normalize(json.load(open(\"../fixtures/route.json\")))['pk'].tolist()\n",
    "        route_list=pd.json_normalize(json.load(open(\"/home/jovyan/work/data/gtfs-22-nov/route.json\")))['pk'].tolist()\n",
    "        dataframe=dataframe.loc[dataframe[\"route_id\"].isin(route_list)]\n",
    "        #dataframe=dataframe.loc[dataframe[\"trip_short_name\"].str.contains(\"(SN)\")==False]\n",
    "        dataframe[\"trip_id\"]= dataframe[\"trip_id\"].str.split(\"_\").str[0]\n",
    "        dataframe.drop_duplicates(subset='trip_id', keep=\"first\", inplace=True)\n",
    "        \n",
    "        ####correção em caso de NaNs no campo direction#####\n",
    "        df_na = dataframe.loc[dataframe[\"direction_id\"].isna()==True]\n",
    "        dataframe=dataframe.loc[dataframe[\"direction_id\"].isna()==False]\n",
    "        \n",
    "    if model == \"qrcode2\":\n",
    "        dataframe=dataframe.loc[dataframe[\"stop_code\"].isna()==False]\n",
    " \n",
    "\n",
    "    if model in [\"route\",\"linha\"]:\n",
    "        dataframe=dataframe.loc[dataframe[\"route_short_name\"].str.contains(\"(SN)\")==False]\n",
    "        \n",
    "    display(f\"{model}  {dataframe.shape[0]}\")\n",
    "    gtfs_to_fixtures(dataframe, config_json, model,trip_list)\n"
   ]
  },
  {
   "cell_type": "code",
   "execution_count": 7,
   "id": "71dfaa04-07d5-4f74-80ba-2e446ff53d55",
   "metadata": {},
   "outputs": [
    {
     "name": "stderr",
     "output_type": "stream",
     "text": [
      "/tmp/ipykernel_73/1181182058.py:2: DtypeWarning: Columns (5) have mixed types. Specify dtype option on import or set low_memory=False.\n",
      "  df = pd.read_csv(\"/home/jovyan/work/data/gtfs-22-nov/stop_times.txt\"  )\n"
     ]
    },
    {
     "name": "stdout",
     "output_type": "stream",
     "text": [
      "['m3ta']\n"
     ]
    }
   ],
   "source": [
    "# stop_id faltantes em sequence\n",
    "df = pd.read_csv(\"/home/jovyan/work/data/gtfs-22-nov/stop_times.txt\"  )\n",
    "trip_list=pd.json_normalize(json.load(open(\"/home/jovyan/work/data/gtfs-22-nov/trip.json\")))['pk'].tolist()\n",
    "df[\"trip_id\"]= df[\"trip_id\"].str.split(\"_\").str[0]\n",
    "df.drop_duplicates(subset=['trip_id', 'stop_id'], keep=\"first\", inplace=True)\n",
    "\n",
    "\n",
    "stop_list=pd.json_normalize(json.load(open(\"/home/jovyan/work/data/gtfs-22-nov/stop.json\")))['pk'].tolist()\n",
    "print(df[\"stop_id\"].loc[df[\"stop_id\"].isin(stop_list)==False].unique())"
   ]
  },
  {
   "cell_type": "code",
   "execution_count": 8,
   "id": "effc392a-a1e1-4e51-ab13-e1f5570aecab",
   "metadata": {},
   "outputs": [
    {
     "data": {
      "text/html": [
       "<div>\n",
       "<style scoped>\n",
       "    .dataframe tbody tr th:only-of-type {\n",
       "        vertical-align: middle;\n",
       "    }\n",
       "\n",
       "    .dataframe tbody tr th {\n",
       "        vertical-align: top;\n",
       "    }\n",
       "\n",
       "    .dataframe thead th {\n",
       "        text-align: right;\n",
       "    }\n",
       "</style>\n",
       "<table border=\"1\" class=\"dataframe\">\n",
       "  <thead>\n",
       "    <tr style=\"text-align: right;\">\n",
       "      <th></th>\n",
       "      <th>trip_id</th>\n",
       "      <th>route_id</th>\n",
       "      <th>service_id</th>\n",
       "      <th>trip_headsign</th>\n",
       "      <th>trip_short_name</th>\n",
       "      <th>direction_id</th>\n",
       "      <th>block_id</th>\n",
       "      <th>shape_id</th>\n",
       "      <th>wheelchair_accessible</th>\n",
       "      <th>bikes_allowed</th>\n",
       "    </tr>\n",
       "  </thead>\n",
       "  <tbody>\n",
       "    <tr>\n",
       "      <th>486</th>\n",
       "      <td>175b00bb-a3ea-468b-93a2-bf6c9ff8aced</td>\n",
       "      <td>O0825AAA0A</td>\n",
       "      <td>U</td>\n",
       "      <td>Jesuítas</td>\n",
       "      <td>825</td>\n",
       "      <td>NaN</td>\n",
       "      <td>NaN</td>\n",
       "      <td>qi1g</td>\n",
       "      <td>NaN</td>\n",
       "      <td>NaN</td>\n",
       "    </tr>\n",
       "  </tbody>\n",
       "</table>\n",
       "</div>"
      ],
      "text/plain": [
       "                                  trip_id    route_id service_id  \\\n",
       "486  175b00bb-a3ea-468b-93a2-bf6c9ff8aced  O0825AAA0A          U   \n",
       "\n",
       "    trip_headsign trip_short_name  direction_id  block_id shape_id  \\\n",
       "486      Jesuítas             825           NaN       NaN     qi1g   \n",
       "\n",
       "     wheelchair_accessible  bikes_allowed  \n",
       "486                    NaN            NaN  "
      ]
     },
     "metadata": {},
     "output_type": "display_data"
    }
   ],
   "source": [
    "#coferencia de NaNs em direction para trips\n",
    "#trip_id=\"O0837AAA0ACDU01\"\n",
    "#trip = pd.json_normalize(json.load(open(\"/home/jovyan/work/data/gtfs-22-nov/trip.json\")))\n",
    "#trip.loc[trip[\"pk\"]==trip_id]\n",
    "#trip.loc[trip[\"fields.direction\"].isna()]\n",
    "\n",
    "display(df_na)"
   ]
  },
  {
   "cell_type": "code",
   "execution_count": 9,
   "id": "3bbebf83-ed4f-464d-81c4-4f2574bda334",
   "metadata": {},
   "outputs": [
    {
     "name": "stderr",
     "output_type": "stream",
     "text": [
      "/tmp/ipykernel_73/2883189033.py:1: DtypeWarning: Columns (5) have mixed types. Specify dtype option on import or set low_memory=False.\n",
      "  s =  pd.read_csv(\"/home/jovyan/work/data/gtfs-22-nov/stop_times.txt\")\n"
     ]
    },
    {
     "data": {
      "text/html": [
       "<div>\n",
       "<style scoped>\n",
       "    .dataframe tbody tr th:only-of-type {\n",
       "        vertical-align: middle;\n",
       "    }\n",
       "\n",
       "    .dataframe tbody tr th {\n",
       "        vertical-align: top;\n",
       "    }\n",
       "\n",
       "    .dataframe thead th {\n",
       "        text-align: right;\n",
       "    }\n",
       "</style>\n",
       "<table border=\"1\" class=\"dataframe\">\n",
       "  <thead>\n",
       "    <tr style=\"text-align: right;\">\n",
       "      <th></th>\n",
       "      <th>trip_id</th>\n",
       "      <th>stop_sequence</th>\n",
       "      <th>stop_id</th>\n",
       "      <th>arrival_time</th>\n",
       "      <th>departure_time</th>\n",
       "      <th>stop_headsign</th>\n",
       "      <th>pickup_type</th>\n",
       "      <th>drop_off_type</th>\n",
       "      <th>continuous_pickup</th>\n",
       "      <th>continuous_drop_off</th>\n",
       "      <th>shape_dist_traveled</th>\n",
       "      <th>timepoint</th>\n",
       "    </tr>\n",
       "  </thead>\n",
       "  <tbody>\n",
       "    <tr>\n",
       "      <th>332811</th>\n",
       "      <td>O0833AAA0AVDU02</td>\n",
       "      <td>39</td>\n",
       "      <td>m3ta</td>\n",
       "      <td>00:00:00</td>\n",
       "      <td>00:00:00</td>\n",
       "      <td>NaN</td>\n",
       "      <td>0.0</td>\n",
       "      <td>0.0</td>\n",
       "      <td>1.0</td>\n",
       "      <td>1.0</td>\n",
       "      <td>12191.887294</td>\n",
       "      <td>NaN</td>\n",
       "    </tr>\n",
       "  </tbody>\n",
       "</table>\n",
       "</div>"
      ],
      "text/plain": [
       "                trip_id  stop_sequence stop_id arrival_time departure_time  \\\n",
       "332811  O0833AAA0AVDU02             39    m3ta     00:00:00       00:00:00   \n",
       "\n",
       "       stop_headsign  pickup_type  drop_off_type  continuous_pickup  \\\n",
       "332811           NaN          0.0            0.0                1.0   \n",
       "\n",
       "        continuous_drop_off  shape_dist_traveled  timepoint  \n",
       "332811                  1.0         12191.887294        NaN  "
      ]
     },
     "metadata": {},
     "output_type": "display_data"
    }
   ],
   "source": [
    "s =  pd.read_csv(\"/home/jovyan/work/data/gtfs-22-nov/stop_times.txt\")\n",
    "trip_list=pd.json_normalize(json.load(open(\"/home/jovyan/work/data/gtfs-22-nov/trip.json\")))['pk'].tolist()\n",
    "s[\"trip_id\"]= s[\"trip_id\"].str.split(\"_\").str[0]\n",
    "s.drop_duplicates(subset=['trip_id', 'stop_id'], keep=\"first\", inplace=True)\n",
    "s = s.loc[s[\"trip_id\"].isin(trip_list)]\n",
    "\n",
    "#retirando stop_id inexistentes\n",
    "stop_list=pd.json_normalize(json.load(open(\"/home/jovyan/work/data/gtfs-22-nov/stop.json\")))['pk'].tolist()\n",
    "#s = s.loc[s[\"stop_id\"].isin(stop_list)]\n",
    "display(s.loc[s[\"stop_id\"].isin(stop_list)==False])\n"
   ]
  },
  {
   "cell_type": "code",
   "execution_count": 213,
   "id": "3047dff5-17f3-4374-8766-a59ed928066a",
   "metadata": {},
   "outputs": [
    {
     "data": {
      "text/plain": [
       "'2028O00023C0'"
      ]
     },
     "execution_count": 213,
     "metadata": {},
     "output_type": "execute_result"
    }
   ],
   "source": [
    "# generate qr-code.\n",
    "\n",
    "convert_old_to_new_stop(\"206028220002310\")"
   ]
  },
  {
   "cell_type": "code",
   "execution_count": 12,
   "id": "a79a4659-b0e3-432f-ab25-3de7f92edc94",
   "metadata": {},
   "outputs": [
    {
     "name": "stdout",
     "output_type": "stream",
     "text": [
      "x\n"
     ]
    },
    {
     "data": {
      "text/plain": [
       "0     1BJG\n",
       "1     1EBQ\n",
       "2     1G30\n",
       "3     1K84\n",
       "4     1LBP\n",
       "5     1LVC\n",
       "6     1T1W\n",
       "7     1VYH\n",
       "8     2DAX\n",
       "9     2HSG\n",
       "10    2L88\n",
       "11    2L8R\n",
       "12    2PVS\n",
       "13    2TDL\n",
       "14    31HK\n",
       "15    3A7T\n",
       "16    3FP6\n",
       "17    3GDT\n",
       "18    3GJF\n",
       "19    3JH6\n",
       "Name: code, dtype: object"
      ]
     },
     "metadata": {},
     "output_type": "display_data"
    }
   ],
   "source": []
  },
  {
   "cell_type": "code",
   "execution_count": 233,
   "id": "a593ce3c-238f-46dd-9e5f-054b56f9d933",
   "metadata": {},
   "outputs": [
    {
     "name": "stdout",
     "output_type": "stream",
     "text": [
      "51 pontos adicionados a fixtures\n"
     ]
    }
   ],
   "source": [
    "import requests\n",
    "last_page =True\n",
    "#url='https://api.dev.mobilidade.rio/qrcode/'\n",
    "url=\"https://api.mobilidade.rio/qrcode/\"\n",
    "fixtures=[]\n",
    "i=0\n",
    "while last_page:\n",
    "    x = requests.get(url)\n",
    "    x=json.loads(x.text)\n",
    "    results=x['results']\n",
    "    for item in results:\n",
    "        code = item[\"code\"]\n",
    "        stop=item['stop'][\"id\"]\n",
    "        fixtures.append(treat_results(stop,code,0,i))\n",
    "        i+=1\n",
    "\n",
    "    if x[\"next\"]:\n",
    "        url= x[\"next\"]\n",
    "    else:\n",
    "        last_page=False\n",
    "\n",
    "print(len(fixtures),'pontos adicionados a fixtures')"
   ]
  },
  {
   "cell_type": "code",
   "execution_count": 29,
   "id": "78ef8a5a-5baf-45d1-9b6c-4a075694abcd",
   "metadata": {},
   "outputs": [],
   "source": [
    "fixtures=[]"
   ]
  },
  {
   "cell_type": "code",
   "execution_count": 19,
   "id": "63386f5d-2cdc-44cc-9969-6f4d1cd46902",
   "metadata": {},
   "outputs": [
    {
     "name": "stdout",
     "output_type": "stream",
     "text": [
      "2028O00023C0 1K84\n",
      "2028O00027C0 3GDT\n",
      "2028O00029C0 6EIC\n",
      "2028O00031C0 6PUF\n",
      "2028O00032C0 7DDY\n",
      "2028O00034C0 7GIN\n",
      "2029O00038C0 9VQU\n",
      "2027O00105C0 AWBW\n",
      "2027O00051C0 FMCV\n",
      "2027O00098C0 HKBW\n",
      "2027O00062C0 IGR3\n",
      "2027O00061C0 JJAY\n",
      "2027O00060C0 RE3Z\n",
      "64 pontos adicionados a fixtures\n"
     ]
    }
   ],
   "source": [
    "def treat_results(stop,code,count,i):\n",
    "    return {\n",
    "            \"model\": \"pontos.qrcode\",\n",
    "            \"pk\": count+i,\n",
    "            \"fields\": {\n",
    "                \"stop\": stop,\n",
    "                \"code\": code,\n",
    "            }\n",
    "    }\n",
    "\n",
    "\n",
    "def dump_fixtures(fixtures: List[dict], filepath: Union[str, Path]):\n",
    "    \"\"\"\n",
    "    Salva os fixtures em um arquivo JSON.\n",
    "    \"\"\"\n",
    "    with open(filepath, \"w\") as f:\n",
    "        json.dump(fixtures, f, indent=4)\n",
    "        \n",
    "        \n",
    "fixtures=[]\n",
    "\n",
    "\n",
    "new_code=[    \n",
    "[\"1K84\",\"206028220002310\"],\n",
    "[\"3GDT\",\"206028220002710\"],\n",
    "[\"6EIC\",\"206028220002910\"],\n",
    "[\"6PUF\",\"206028220003110\"],\n",
    "[\"7DDY\",\"206028220003210\"],\n",
    "[\"7GIN\",\"206028220003410\"],\n",
    "[\"9VQU\",\"206029220003810\"],\n",
    "[\"AWBW\",\"206027220010510\"],\n",
    "[\"FMCV\",\"206027220005110\"],\n",
    "[\"HKBW\",\"206027220009810\"],\n",
    "[\"IGR3\",\"206027220006210\"],\n",
    "[\"JJAY\",\"206027220006110\"],\n",
    "[\"RE3Z\",\"206027220006010\"],\n",
    "[\"VIN5\",\"2027O00067C0\"],\n",
    "[\"YXB9\",\"2021O00007C0\"], #JB\n",
    "    \n",
    "[\"7M9B\",\"1005O00198C0\"],\n",
    "[\"7KKY\",\"1005O00197C0\"], #passos\n",
    "    \n",
    "[\"JG2L\",\"1005O00180C0\"],\n",
    "[\"JUCL\",\"1005O00181C0\"],\n",
    "[\"CZ9H\",\"t2u9\"], # Carioca\n",
    "    \n",
    "[\"DQ2D\",\"3061O00018C0\"],\n",
    "[\"T5TT\",\"3061O00019C0\"],\n",
    "[\"HFGL\",\"3061O00020C0\"],\n",
    "[\"DRVV\",\"3061O00021C0\"],\n",
    "[\"TDBA\",\"3061O00022C0\"],\n",
    "[\"DQ3X\",\"3061O00023C0\"], #bom retiro\n",
    "    \n",
    "[\"1BJG\",\"2035O00028S9\"],\n",
    "[\"1EBQ\",\"2035O00039S9\"],\n",
    "[\"1G30\",\"2036O00012S9\"],\n",
    "[\"1LBP\",\"2036O00050S9\"],\n",
    "[\"1LVC\",\"2036O00045S9\"],\n",
    "[\"1T1W\",\"2036O00013S9\"],\n",
    "[\"1VYH\",\"2036O00051S9\"],\n",
    "[\"2DAX\",\"2036O00052S9\"],\n",
    "[\"2HSG\",\"2036O00014S9\"],\n",
    "[\"2L8R\",\"2036O00015S9\"],\n",
    "[\"2L88\",\"2036O00053S9\"],\n",
    "[\"2PVS\",\"2036O00054S9\"],\n",
    "[\"2TDL\",\"2036O00016S9\"],\n",
    "[\"Q3VX\",\"2036O00055S0\"], # 28\n",
    "    \n",
    "[\"3A7T\",\"2036O00001S9\"],\n",
    "[\"EN4C\",\"2036O00043S9\"],\n",
    "[\"FFD3\",\"2036O00002S9\"],\n",
    "[\"FL96\",\"2036O00003S9\"],\n",
    "[\"3FP6\",\"2036O00004S9\"],\n",
    "[\"3GJF\",\"2036O00056S9\"],\n",
    "[\"3JH6\",\"2036O00057S9\"],\n",
    "[\"FU3N\",\"2036O00044S9\"],\n",
    "[\"FYF6\",\"2036O00058S9\"],\n",
    "[\"G56G\",\"2036O00005S9\"],\n",
    "[\"4AZE\",\"2036O00006S9\"], # teodoro\n",
    "    \n",
    "[\"4HKB\",\"2036O00007S0\"],\n",
    "[\"5GT3\",\"2036O00049S0\"],\n",
    "[\"5SGU\",\"2035O00043S0\"],\n",
    "[\"7V3P\",\"2035O00018S0\"],\n",
    "[\"8A9A\",\"2035O00019S0\"],\n",
    "[\"8AES\",\"2035O00002S0\"],\n",
    "[\"8HAM\",\"2035O00041S0\"],\n",
    "[\"8UHE\",\"2033O00021S0\"],\n",
    "[\"9D2Q\",\"2033O00022S0\"],\n",
    "[\"9E8I\",\"2033O00245S0\"],\n",
    "[\"9NWD\",\"2033O00244S2\"],\n",
    "[\"31HK\",\"2033O00045S0\"],\n",
    "[\"47K3\",\"2033O00046S0\"]#São francisco Xavier\n",
    "]\n",
    "\n",
    "for i in range(len(new_code)):\n",
    "        code = new_code[i][0]\n",
    "        stop = new_code[i][1]\n",
    "        #print(type(stop))\n",
    "        #print(len(stop))\n",
    "        if len(stop)==15:\n",
    "            stop=convert_old_to_new_stop(stop)\n",
    "            print(stop,code)\n",
    "\n",
    "        fixtures.append(treat_results(stop,code,len(fixtures),0))\n",
    "        \n",
    "print(len(fixtures),'pontos adicionados a fixtures')\n"
   ]
  },
  {
   "cell_type": "code",
   "execution_count": 20,
   "id": "0bba9b45-6d31-444d-99c3-7fe2ff756cd8",
   "metadata": {},
   "outputs": [],
   "source": [
    "dump_fixtures(fixtures, f\"/home/jovyan/work/data/gtfs-22-nov/qrcode.json\")\n",
    "#dump_fixtures(fixtures, f\"qrcode3.json\") "
   ]
  },
  {
   "cell_type": "code",
   "execution_count": 21,
   "id": "ec0104ca-7f57-4a8b-bd61-511aafee6ac3",
   "metadata": {},
   "outputs": [
    {
     "data": {
      "text/plain": [
       "64"
      ]
     },
     "metadata": {},
     "output_type": "display_data"
    },
    {
     "data": {
      "text/plain": [
       "64"
      ]
     },
     "metadata": {},
     "output_type": "display_data"
    },
    {
     "data": {
      "text/plain": [
       "'qrcode[stop_id] diferente em stop'"
      ]
     },
     "metadata": {},
     "output_type": "display_data"
    },
    {
     "data": {
      "text/html": [
       "<div>\n",
       "<style scoped>\n",
       "    .dataframe tbody tr th:only-of-type {\n",
       "        vertical-align: middle;\n",
       "    }\n",
       "\n",
       "    .dataframe tbody tr th {\n",
       "        vertical-align: top;\n",
       "    }\n",
       "\n",
       "    .dataframe thead th {\n",
       "        text-align: right;\n",
       "    }\n",
       "</style>\n",
       "<table border=\"1\" class=\"dataframe\">\n",
       "  <thead>\n",
       "    <tr style=\"text-align: right;\">\n",
       "      <th></th>\n",
       "      <th>model</th>\n",
       "      <th>pk</th>\n",
       "      <th>fields.stop</th>\n",
       "      <th>fields.code</th>\n",
       "    </tr>\n",
       "  </thead>\n",
       "  <tbody>\n",
       "  </tbody>\n",
       "</table>\n",
       "</div>"
      ],
      "text/plain": [
       "Empty DataFrame\n",
       "Columns: [model, pk, fields.stop, fields.code]\n",
       "Index: []"
      ]
     },
     "metadata": {},
     "output_type": "display_data"
    },
    {
     "data": {
      "text/plain": [
       "'main'"
      ]
     },
     "metadata": {},
     "output_type": "display_data"
    },
    {
     "data": {
      "text/html": [
       "<div>\n",
       "<style scoped>\n",
       "    .dataframe tbody tr th:only-of-type {\n",
       "        vertical-align: middle;\n",
       "    }\n",
       "\n",
       "    .dataframe tbody tr th {\n",
       "        vertical-align: top;\n",
       "    }\n",
       "\n",
       "    .dataframe thead th {\n",
       "        text-align: right;\n",
       "    }\n",
       "</style>\n",
       "<table border=\"1\" class=\"dataframe\">\n",
       "  <thead>\n",
       "    <tr style=\"text-align: right;\">\n",
       "      <th></th>\n",
       "      <th>model</th>\n",
       "      <th>pk</th>\n",
       "      <th>fields.stop</th>\n",
       "      <th>fields.code</th>\n",
       "    </tr>\n",
       "  </thead>\n",
       "  <tbody>\n",
       "  </tbody>\n",
       "</table>\n",
       "</div>"
      ],
      "text/plain": [
       "Empty DataFrame\n",
       "Columns: [model, pk, fields.stop, fields.code]\n",
       "Index: []"
      ]
     },
     "metadata": {},
     "output_type": "display_data"
    },
    {
     "data": {
      "text/plain": [
       "'pontos que existem em manual e em gtfs'"
      ]
     },
     "metadata": {},
     "output_type": "display_data"
    },
    {
     "data": {
      "text/plain": [
       "64"
      ]
     },
     "metadata": {},
     "output_type": "display_data"
    },
    {
     "data": {
      "text/plain": [
       "'codes que existem em manual e em gtfs'"
      ]
     },
     "metadata": {},
     "output_type": "display_data"
    },
    {
     "data": {
      "text/plain": [
       "64"
      ]
     },
     "metadata": {},
     "output_type": "display_data"
    },
    {
     "data": {
      "text/plain": [
       "'pontos que existem em manual e em gtfs'"
      ]
     },
     "metadata": {},
     "output_type": "display_data"
    },
    {
     "data": {
      "text/plain": [
       "64"
      ]
     },
     "metadata": {},
     "output_type": "display_data"
    }
   ],
   "source": [
    "# teste para unicidade da tupla (code,stop)\n",
    "code = pd.json_normalize(json.load(open(\"/home/jovyan/work/data/gtfs-22-nov/qrcode.json\")))\n",
    "stop = pd.json_normalize(json.load(open(\"/home/jovyan/work/data/gtfs-22-nov/stop.json\")))\n",
    "#display (stop)\n",
    "display(len(code[\"fields.stop\"].unique().tolist()), len(code[\"fields.code\"].unique().tolist()))\n",
    "\n",
    "\n",
    "display(\"qrcode[stop_id] diferente em stop\",code.loc[code[\"fields.stop\"].isin(stop[\"pk\"])==False])\n",
    "\n",
    "\n",
    "\n",
    "\n",
    "\n",
    "main = pd.json_normalize(json.load(open(f\"qrcode4.json\")))\n",
    "display(\"main\",main.loc[main[\"fields.stop\"].isin(code[\"fields.stop\"])==False])\n",
    "\n",
    "\n",
    "#testando para saber se na geração altomatica pelo gtfs e o manual estão em conformidade.\n",
    "\n",
    "manual = pd.json_normalize(json.load(open(\"/home/jovyan/work/data/gtfs-22-nov/qrcode.json\")))\n",
    "gtfs = pd.json_normalize(json.load(open(\"/home/jovyan/work/data/gtfs-22-nov/qrcode2.json\")))\n",
    "display(\"pontos que existem em manual e em gtfs\", manual[\"fields.code\"].loc[manual[\"fields.code\"].isin(gtfs[\"fields.code\"])==True].count())\n",
    "\n",
    "c = manual.loc[manual[\"fields.code\"].isin(gtfs[\"fields.code\"])==True]\n",
    "display(\"codes que existem em manual e em gtfs\", c[\"fields.code\"].count())\n",
    "display(\"pontos que existem em manual e em gtfs\", c[\"fields.stop\"].loc[c[\"fields.stop\"].isin(gtfs[\"fields.stop\"])==True].count())\n",
    "\n",
    "#print(manual[\"fields.code\"].tolist())"
   ]
  },
  {
   "cell_type": "code",
   "execution_count": 269,
   "id": "3d69943f-790f-424e-8e0b-2e3896082a74",
   "metadata": {},
   "outputs": [
    {
     "name": "stdout",
     "output_type": "stream",
     "text": [
      "Empty DataFrame\n",
      "Columns: [model, pk, fields.stop, fields.code]\n",
      "Index: []\n"
     ]
    }
   ],
   "source": [
    "#Teste a para associação com stops.\n",
    "#usando gtfs-nov, anterior foi gtfsv2\n",
    "#try code\n",
    "c=\"4HKB\".upper()\n",
    "print(code.loc[code[\"fields.code\"]==c])\n"
   ]
  },
  {
   "cell_type": "code",
   "execution_count": 190,
   "id": "9194da1a-db95-4179-a8df-0682a314bb46",
   "metadata": {},
   "outputs": [
    {
     "data": {
      "text/plain": [
       "'qrcode[stop_id] diferente em stop'"
      ]
     },
     "metadata": {},
     "output_type": "display_data"
    },
    {
     "data": {
      "text/html": [
       "<div>\n",
       "<style scoped>\n",
       "    .dataframe tbody tr th:only-of-type {\n",
       "        vertical-align: middle;\n",
       "    }\n",
       "\n",
       "    .dataframe tbody tr th {\n",
       "        vertical-align: top;\n",
       "    }\n",
       "\n",
       "    .dataframe thead th {\n",
       "        text-align: right;\n",
       "    }\n",
       "</style>\n",
       "<table border=\"1\" class=\"dataframe\">\n",
       "  <thead>\n",
       "    <tr style=\"text-align: right;\">\n",
       "      <th></th>\n",
       "      <th>model</th>\n",
       "      <th>pk</th>\n",
       "      <th>fields.stop</th>\n",
       "      <th>fields.code</th>\n",
       "    </tr>\n",
       "  </thead>\n",
       "  <tbody>\n",
       "    <tr>\n",
       "      <th>0</th>\n",
       "      <td>pontos.qrcode</td>\n",
       "      <td>0</td>\n",
       "      <td>206028220002310</td>\n",
       "      <td>1K84</td>\n",
       "    </tr>\n",
       "    <tr>\n",
       "      <th>1</th>\n",
       "      <td>pontos.qrcode</td>\n",
       "      <td>1</td>\n",
       "      <td>206028220002710</td>\n",
       "      <td>3GDT</td>\n",
       "    </tr>\n",
       "    <tr>\n",
       "      <th>2</th>\n",
       "      <td>pontos.qrcode</td>\n",
       "      <td>2</td>\n",
       "      <td>206028220002910</td>\n",
       "      <td>6EIC</td>\n",
       "    </tr>\n",
       "    <tr>\n",
       "      <th>3</th>\n",
       "      <td>pontos.qrcode</td>\n",
       "      <td>3</td>\n",
       "      <td>206028220003110</td>\n",
       "      <td>6PUF</td>\n",
       "    </tr>\n",
       "    <tr>\n",
       "      <th>4</th>\n",
       "      <td>pontos.qrcode</td>\n",
       "      <td>4</td>\n",
       "      <td>206028220003210</td>\n",
       "      <td>7DDY</td>\n",
       "    </tr>\n",
       "    <tr>\n",
       "      <th>5</th>\n",
       "      <td>pontos.qrcode</td>\n",
       "      <td>5</td>\n",
       "      <td>206028220003410</td>\n",
       "      <td>7GIN</td>\n",
       "    </tr>\n",
       "    <tr>\n",
       "      <th>6</th>\n",
       "      <td>pontos.qrcode</td>\n",
       "      <td>6</td>\n",
       "      <td>206029220003810</td>\n",
       "      <td>9VQU</td>\n",
       "    </tr>\n",
       "    <tr>\n",
       "      <th>7</th>\n",
       "      <td>pontos.qrcode</td>\n",
       "      <td>7</td>\n",
       "      <td>206027220010510</td>\n",
       "      <td>AWBW</td>\n",
       "    </tr>\n",
       "    <tr>\n",
       "      <th>8</th>\n",
       "      <td>pontos.qrcode</td>\n",
       "      <td>8</td>\n",
       "      <td>206027220005110</td>\n",
       "      <td>FMCV</td>\n",
       "    </tr>\n",
       "    <tr>\n",
       "      <th>9</th>\n",
       "      <td>pontos.qrcode</td>\n",
       "      <td>9</td>\n",
       "      <td>206027220009810</td>\n",
       "      <td>HKBW</td>\n",
       "    </tr>\n",
       "    <tr>\n",
       "      <th>10</th>\n",
       "      <td>pontos.qrcode</td>\n",
       "      <td>10</td>\n",
       "      <td>206027220006210</td>\n",
       "      <td>IGR3</td>\n",
       "    </tr>\n",
       "    <tr>\n",
       "      <th>11</th>\n",
       "      <td>pontos.qrcode</td>\n",
       "      <td>11</td>\n",
       "      <td>206027220006110</td>\n",
       "      <td>JJAY</td>\n",
       "    </tr>\n",
       "    <tr>\n",
       "      <th>12</th>\n",
       "      <td>pontos.qrcode</td>\n",
       "      <td>12</td>\n",
       "      <td>206027220006010</td>\n",
       "      <td>RE3Z</td>\n",
       "    </tr>\n",
       "  </tbody>\n",
       "</table>\n",
       "</div>"
      ],
      "text/plain": [
       "            model  pk      fields.stop fields.code\n",
       "0   pontos.qrcode   0  206028220002310        1K84\n",
       "1   pontos.qrcode   1  206028220002710        3GDT\n",
       "2   pontos.qrcode   2  206028220002910        6EIC\n",
       "3   pontos.qrcode   3  206028220003110        6PUF\n",
       "4   pontos.qrcode   4  206028220003210        7DDY\n",
       "5   pontos.qrcode   5  206028220003410        7GIN\n",
       "6   pontos.qrcode   6  206029220003810        9VQU\n",
       "7   pontos.qrcode   7  206027220010510        AWBW\n",
       "8   pontos.qrcode   8  206027220005110        FMCV\n",
       "9   pontos.qrcode   9  206027220009810        HKBW\n",
       "10  pontos.qrcode  10  206027220006210        IGR3\n",
       "11  pontos.qrcode  11  206027220006110        JJAY\n",
       "12  pontos.qrcode  12  206027220006010        RE3Z"
      ]
     },
     "metadata": {},
     "output_type": "display_data"
    },
    {
     "data": {
      "text/plain": [
       "'Dos 51 qrcodes em main, 51 tem seus stop_ids associados em stop'"
      ]
     },
     "metadata": {},
     "output_type": "display_data"
    },
    {
     "data": {
      "text/plain": [
       "'Dos 64 qrcodes, 13 não tem seus stop_ids associados em stop'"
      ]
     },
     "metadata": {},
     "output_type": "display_data"
    },
    {
     "data": {
      "text/plain": [
       "' qrcode[stop_id] em main que mudaram e nao estão na lista acima'"
      ]
     },
     "metadata": {},
     "output_type": "display_data"
    },
    {
     "data": {
      "text/html": [
       "<div>\n",
       "<style scoped>\n",
       "    .dataframe tbody tr th:only-of-type {\n",
       "        vertical-align: middle;\n",
       "    }\n",
       "\n",
       "    .dataframe tbody tr th {\n",
       "        vertical-align: top;\n",
       "    }\n",
       "\n",
       "    .dataframe thead th {\n",
       "        text-align: right;\n",
       "    }\n",
       "</style>\n",
       "<table border=\"1\" class=\"dataframe\">\n",
       "  <thead>\n",
       "    <tr style=\"text-align: right;\">\n",
       "      <th></th>\n",
       "      <th>model</th>\n",
       "      <th>pk</th>\n",
       "      <th>fields.stop</th>\n",
       "      <th>fields.code</th>\n",
       "    </tr>\n",
       "  </thead>\n",
       "  <tbody>\n",
       "  </tbody>\n",
       "</table>\n",
       "</div>"
      ],
      "text/plain": [
       "Empty DataFrame\n",
       "Columns: [model, pk, fields.stop, fields.code]\n",
       "Index: []"
      ]
     },
     "metadata": {},
     "output_type": "display_data"
    }
   ],
   "source": [
    "qr_code = pd.json_normalize(json.load(open(f\"qrcode3.json\")))\n",
    "stop = pd.json_normalize(json.load(open(\"/home/jovyan/work/data/gtfs_nov/stop.json\")))\n",
    "#display(stop)\n",
    "#print (len(qr_code[\"fields.code\"].unique().tolist()),len(qr_code[\"fields.stop\"].unique().tolist()))\n",
    "display(\"qrcode[stop_id] diferente em stop\",qr_code.loc[qr_code[\"fields.stop\"].isin(stop[\"pk\"])==False])\n",
    "\n",
    "qr_code1=qr_code.loc[qr_code[\"fields.stop\"].isin(stop[\"pk\"])==False]\n",
    "qr_code2 = pd.json_normalize(json.load(open(f\"qrcode4.json\")))\n",
    "N_main = qr_code2[\"model\"].count()\n",
    "qr_code2 = qr_code2.loc[qr_code2[\"fields.stop\"].isin(stop[\"pk\"])==True]\n",
    "\n",
    "display(f\"Dos {N_main} qrcodes em main, {qr_code2['model'].count()} tem seus stop_ids associados em stop\")\n",
    "\n",
    "display(f\"Dos {qr_code['model'].count()} qrcodes, {qr_code1['model'].count()} não tem seus stop_ids associados em stop\")\n",
    "\n",
    "\n",
    "display(\" qrcode[stop_id] em main que mudaram e nao estão na lista acima\",qr_code1.loc[qr_code1[\"fields.code\"].isin(qr_code2[\"fields.code\"])==False])"
   ]
  },
  {
   "cell_type": "code",
   "execution_count": null,
   "id": "700c2f12-2ca0-4374-97bf-4a2f838b0fce",
   "metadata": {},
   "outputs": [],
   "source": []
  },
  {
   "cell_type": "code",
   "execution_count": 179,
   "id": "1136b083-a2dc-4046-832f-192077eb4669",
   "metadata": {},
   "outputs": [
    {
     "data": {
      "text/html": [
       "<div>\n",
       "<style scoped>\n",
       "    .dataframe tbody tr th:only-of-type {\n",
       "        vertical-align: middle;\n",
       "    }\n",
       "\n",
       "    .dataframe tbody tr th {\n",
       "        vertical-align: top;\n",
       "    }\n",
       "\n",
       "    .dataframe thead th {\n",
       "        text-align: right;\n",
       "    }\n",
       "</style>\n",
       "<table border=\"1\" class=\"dataframe\">\n",
       "  <thead>\n",
       "    <tr style=\"text-align: right;\">\n",
       "      <th></th>\n",
       "      <th>model</th>\n",
       "      <th>pk</th>\n",
       "      <th>fields.stop</th>\n",
       "      <th>fields.code</th>\n",
       "      <th>old_stops</th>\n",
       "    </tr>\n",
       "  </thead>\n",
       "  <tbody>\n",
       "    <tr>\n",
       "      <th>0</th>\n",
       "      <td>pontos.qrcode</td>\n",
       "      <td>0</td>\n",
       "      <td>206028220002310</td>\n",
       "      <td>1K84</td>\n",
       "      <td>2028O00023C0</td>\n",
       "    </tr>\n",
       "    <tr>\n",
       "      <th>1</th>\n",
       "      <td>pontos.qrcode</td>\n",
       "      <td>1</td>\n",
       "      <td>206028220002710</td>\n",
       "      <td>3GDT</td>\n",
       "      <td>2028O00027C0</td>\n",
       "    </tr>\n",
       "    <tr>\n",
       "      <th>2</th>\n",
       "      <td>pontos.qrcode</td>\n",
       "      <td>2</td>\n",
       "      <td>206028220002910</td>\n",
       "      <td>6EIC</td>\n",
       "      <td>2028O00029C0</td>\n",
       "    </tr>\n",
       "    <tr>\n",
       "      <th>3</th>\n",
       "      <td>pontos.qrcode</td>\n",
       "      <td>3</td>\n",
       "      <td>206028220003110</td>\n",
       "      <td>6PUF</td>\n",
       "      <td>2028O00031C0</td>\n",
       "    </tr>\n",
       "    <tr>\n",
       "      <th>4</th>\n",
       "      <td>pontos.qrcode</td>\n",
       "      <td>4</td>\n",
       "      <td>206028220003210</td>\n",
       "      <td>7DDY</td>\n",
       "      <td>2028O00032C0</td>\n",
       "    </tr>\n",
       "    <tr>\n",
       "      <th>5</th>\n",
       "      <td>pontos.qrcode</td>\n",
       "      <td>5</td>\n",
       "      <td>206028220003410</td>\n",
       "      <td>7GIN</td>\n",
       "      <td>2028O00034C0</td>\n",
       "    </tr>\n",
       "    <tr>\n",
       "      <th>6</th>\n",
       "      <td>pontos.qrcode</td>\n",
       "      <td>6</td>\n",
       "      <td>206029220003810</td>\n",
       "      <td>9VQU</td>\n",
       "      <td>2029O00038C0</td>\n",
       "    </tr>\n",
       "    <tr>\n",
       "      <th>7</th>\n",
       "      <td>pontos.qrcode</td>\n",
       "      <td>7</td>\n",
       "      <td>206027220010510</td>\n",
       "      <td>AWBW</td>\n",
       "      <td>2027O00105C0</td>\n",
       "    </tr>\n",
       "    <tr>\n",
       "      <th>8</th>\n",
       "      <td>pontos.qrcode</td>\n",
       "      <td>8</td>\n",
       "      <td>206027220005110</td>\n",
       "      <td>FMCV</td>\n",
       "      <td>2027O00051C0</td>\n",
       "    </tr>\n",
       "    <tr>\n",
       "      <th>9</th>\n",
       "      <td>pontos.qrcode</td>\n",
       "      <td>9</td>\n",
       "      <td>206027220009810</td>\n",
       "      <td>HKBW</td>\n",
       "      <td>2027O00098C0</td>\n",
       "    </tr>\n",
       "    <tr>\n",
       "      <th>10</th>\n",
       "      <td>pontos.qrcode</td>\n",
       "      <td>10</td>\n",
       "      <td>206027220006210</td>\n",
       "      <td>IGR3</td>\n",
       "      <td>2027O00062C0</td>\n",
       "    </tr>\n",
       "    <tr>\n",
       "      <th>11</th>\n",
       "      <td>pontos.qrcode</td>\n",
       "      <td>11</td>\n",
       "      <td>206027220006110</td>\n",
       "      <td>JJAY</td>\n",
       "      <td>2027O00061C0</td>\n",
       "    </tr>\n",
       "    <tr>\n",
       "      <th>12</th>\n",
       "      <td>pontos.qrcode</td>\n",
       "      <td>12</td>\n",
       "      <td>206027220006010</td>\n",
       "      <td>RE3Z</td>\n",
       "      <td>2027O00060C0</td>\n",
       "    </tr>\n",
       "  </tbody>\n",
       "</table>\n",
       "</div>"
      ],
      "text/plain": [
       "            model  pk      fields.stop fields.code     old_stops\n",
       "0   pontos.qrcode   0  206028220002310        1K84  2028O00023C0\n",
       "1   pontos.qrcode   1  206028220002710        3GDT  2028O00027C0\n",
       "2   pontos.qrcode   2  206028220002910        6EIC  2028O00029C0\n",
       "3   pontos.qrcode   3  206028220003110        6PUF  2028O00031C0\n",
       "4   pontos.qrcode   4  206028220003210        7DDY  2028O00032C0\n",
       "5   pontos.qrcode   5  206028220003410        7GIN  2028O00034C0\n",
       "6   pontos.qrcode   6  206029220003810        9VQU  2029O00038C0\n",
       "7   pontos.qrcode   7  206027220010510        AWBW  2027O00105C0\n",
       "8   pontos.qrcode   8  206027220005110        FMCV  2027O00051C0\n",
       "9   pontos.qrcode   9  206027220009810        HKBW  2027O00098C0\n",
       "10  pontos.qrcode  10  206027220006210        IGR3  2027O00062C0\n",
       "11  pontos.qrcode  11  206027220006110        JJAY  2027O00061C0\n",
       "12  pontos.qrcode  12  206027220006010        RE3Z  2027O00060C0"
      ]
     },
     "metadata": {},
     "output_type": "display_data"
    },
    {
     "data": {
      "text/plain": [
       "51"
      ]
     },
     "metadata": {},
     "output_type": "display_data"
    }
   ],
   "source": [
    "a= qr_code2.loc[qr_code2[\"fields.code\"].isin(qr_code1[\"fields.code\"])==True].reset_index(drop=True)\n",
    "\n",
    "b= qr_code1.loc[qr_code1[\"fields.code\"].isin(qr_code2[\"fields.code\"])==True]\n",
    "\n",
    "b[\"old_stops\"] = a[\"fields.stop\"]\n",
    "\n",
    "#stop.loc[stop[\"stop_id\"]]\n",
    "\n",
    "display (b)\n",
    "\n",
    "\n",
    "display(stop[\"pk\"].loc[stop[\"pk\"].isin(qr_code[\"fields.stop\"])==True].count())"
   ]
  },
  {
   "cell_type": "code",
   "execution_count": null,
   "id": "4b508bf2-b878-48dd-bd11-da7a0b74597f",
   "metadata": {},
   "outputs": [],
   "source": [
    "#generate mode.json from api"
   ]
  },
  {
   "cell_type": "code",
   "execution_count": 73,
   "id": "f57ff22b-88ff-4b2e-9a35-110b76e48c6e",
   "metadata": {},
   "outputs": [
    {
     "name": "stdout",
     "output_type": "stream",
     "text": [
      "11 modais adicionados a fixtures\n"
     ]
    }
   ],
   "source": [
    "import requests\n",
    "\n",
    "url='https://api.mobilidade.rio/mode/'\n",
    "fixtures=[]\n",
    "x = requests.get(url)\n",
    "x=json.loads(x.text)\n",
    "results=x['results']\n",
    "for item in results:\n",
    "    modal={\n",
    "            \"model\": \"pontos.mode\",\n",
    "            \"pk\": translate_to_new_mode(item[\"id\"]),\n",
    "            \"fields\": {\n",
    "                \"name\": item[\"name\"],\n",
    "            }\n",
    "                \n",
    "    }\n",
    "    fixtures.append(modal)\n",
    "\n",
    "print(len(fixtures),'modais adicionados a fixtures')\n",
    "dump_fixtures(fixtures, f\"../fixtures/mode.json\")"
   ]
  }
 ],
 "metadata": {
  "kernelspec": {
   "display_name": "Python 3 (ipykernel)",
   "language": "python",
   "name": "python3"
  },
  "language_info": {
   "codemirror_mode": {
    "name": "ipython",
    "version": 3
   },
   "file_extension": ".py",
   "mimetype": "text/x-python",
   "name": "python",
   "nbconvert_exporter": "python",
   "pygments_lexer": "ipython3",
   "version": "3.10.6"
  }
 },
 "nbformat": 4,
 "nbformat_minor": 5
}
