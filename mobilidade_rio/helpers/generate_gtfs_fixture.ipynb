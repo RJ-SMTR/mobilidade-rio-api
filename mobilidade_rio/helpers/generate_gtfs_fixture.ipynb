{
 "cells": [
  {
   "cell_type": "code",
   "execution_count": 1,
   "id": "9b3946b4-9fb1-4956-bf97-e268b6e7a2d0",
   "metadata": {},
   "outputs": [],
   "source": [
    "import json\n",
    "from typing import List, Union\n",
    "from pathlib import Path\n",
    "import re\n",
    "\n",
    "import pandas as pd\n",
    "import requests\n",
    "import yaml"
   ]
  },
  {
   "cell_type": "code",
   "execution_count": 2,
   "id": "820abaa6-9287-4ac0-9fb4-43b1ed2b7466",
   "metadata": {
    "tags": []
   },
   "outputs": [],
   "source": [
    "CONFIG_FILENAME = \"config_gtfs.yaml\""
   ]
  },
  {
   "cell_type": "code",
   "execution_count": 3,
   "id": "ec17f9e0-6ac2-4e57-9a9b-c7c921d96952",
   "metadata": {},
   "outputs": [],
   "source": [
    "def load_csv(filepath: Union[str, Path]) -> pd.DataFrame:\n",
    "    \"\"\"\n",
    "    Carrega o arquivo CSV e retorna um DataFrame.\n",
    "    \"\"\"\n",
    "    return pd.read_csv(filepath)\n",
    "\n",
    "def dump_fixtures(fixtures: List[dict], filepath: Union[str, Path]):\n",
    "    \"\"\"\n",
    "    Salva os fixtures em um arquivo JSON.\n",
    "    \"\"\"\n",
    "    with open(filepath, \"w\") as f:\n",
    "        json.dump(fixtures, f, indent=4)\n",
    "\n",
    "def resolve_e(case,record,i):\n",
    "    if case == 'route_id[0:1]':\n",
    "        return record['route_id'][0:1]\n",
    "    if case == 'mode(1).name(4).tipo(1).versao(1)': #confirmar essa montagem de id - cruzar com o exemplo da planilha.\n",
    "        return record['route_id'][0:1]+ re.sub('[^0-9]', '', record['route_short_name']).zfill(4) + record['route_id'][-1:]\n",
    "    if case =='trip_id[-3:]':\n",
    "        return record['trip_id'][-3:]\n",
    "    if case =='i':\n",
    "        return str(i)\n",
    "    if case == \"\": #TODO: resolver o caso da via.\n",
    "        return \"\"\n",
    "    if case == \"stop_id[4:5]\":\n",
    "        return record[\"stop_id\"][4:5]\n",
    "\n",
    "def gtfs_to_fixtures(dataframe, config_json, model):\n",
    "    fixtures = []\n",
    "    k=config_json[\"json\"][\"fields\"].keys()\n",
    "    e=['mode(1).name(4).tipo(1).versao(1)', 'route_id[0:1]','trip_id[-3:]', \"i\",\"\",\"stop_id[4:5]\"]\n",
    "    for i, record in dataframe.iterrows():\n",
    "        result = {\n",
    "                \"model\": \"pontos.\"+config_json[\"json\"][\"model\"],\n",
    "                \"pk\": record[config_json[\"json\"][\"pk\"]] if config_json[\"json\"][\"pk\"] not in e else resolve_e(config_json[\"json\"][\"pk\"],record,i),\n",
    "                \"fields\": dict.fromkeys(k,\"\")\n",
    "            }\n",
    "        for item in k:\n",
    "            if config_json[\"json\"][\"fields\"][item] not in e:\n",
    "                result[\"fields\"][item]=record[config_json[\"json\"][\"fields\"][item]]\n",
    "            else:\n",
    "                result[\"fields\"][item]=resolve_e(config_json[\"json\"][\"fields\"][item],record,i)\n",
    "        \n",
    "            if model ==\"agency\":\n",
    "                result[\"pk\"]=str(result[\"pk\"])\n",
    "            if model ==\"sequence\":\n",
    "                result[\"pk\"]=int(result[\"pk\"])\n",
    "            if model ==\"route\":\n",
    "                result[\"fields\"]['agency']=str(result[\"fields\"]['agency'])\n",
    "            if model ==\"trip\":\n",
    "                #result[\"fields\"]['direction']=int(result[\"fields\"]['direction'])\n",
    "                if result[\"fields\"]['headsign']!=result[\"fields\"]['headsign']:\n",
    "                    result[\"fields\"]['headsign']=\"\"\n",
    "                \n",
    "            if model ==\"stop\":\n",
    "                result[\"fields\"]['latitude']=str(result[\"fields\"]['latitude'])\n",
    "                result[\"fields\"]['longitude']=str(result[\"fields\"]['longitude'])\n",
    "            \n",
    "                \n",
    "        fixtures.append(result)\n",
    "    \n",
    "    dump_fixtures(fixtures, f\"../fixtures/{model}.json\")"
   ]
  },
  {
   "cell_type": "code",
   "execution_count": 4,
   "id": "e22d67b0-73de-447e-a149-190e85517d9a",
   "metadata": {
    "tags": []
   },
   "outputs": [
    {
     "data": {
      "text/plain": [
       "dict_keys(['agency', 'linha', 'route', 'trip', 'stop', 'sequence'])"
      ]
     },
     "execution_count": 4,
     "metadata": {},
     "output_type": "execute_result"
    }
   ],
   "source": [
    "config = yaml.load(\n",
    "        open(CONFIG_FILENAME, \"r\"), \n",
    "        Loader=yaml.FullLoader\n",
    "    )\n",
    "\n",
    "config[\"models\"].keys()"
   ]
  },
  {
   "cell_type": "code",
   "execution_count": 173,
   "id": "5c39d1c9-83bc-4999-931f-9ac4064bd5df",
   "metadata": {
    "tags": []
   },
   "outputs": [],
   "source": [
    "for model in config[\"models\"].keys():\n",
    "    config_json=config[\"models\"][model]\n",
    "    dataframe = load_csv( config_json['source'] )\n",
    "\n",
    "    gtfs_to_fixtures(dataframe, config_json, model)"
   ]
  },
  {
   "cell_type": "code",
   "execution_count": null,
   "id": "4b185569-68cb-4494-ab65-3adf9282d023",
   "metadata": {},
   "outputs": [],
   "source": [
    "#TODO:\n",
    "#    agency.json -- pk -- se int implica em erro -> str\n",
    "#    route.json -- agency -- se int implica em erro -> str\n",
    "#    trips.json -- direction -> int\n",
    "#    sequence.json -- pk -- se str implica em erro -> int\n",
    "#    todos  -- mode precisa ser str\n",
    "\n"
   ]
  },
  {
   "cell_type": "code",
   "execution_count": null,
   "id": "3047dff5-17f3-4374-8766-a59ed928066a",
   "metadata": {},
   "outputs": [],
   "source": [
    "# generate qr-code."
   ]
  },
  {
   "cell_type": "code",
   "execution_count": 9,
   "id": "14947539-346b-49de-a9a7-2771595b33a2",
   "metadata": {
    "tags": []
   },
   "outputs": [
    {
     "name": "stdout",
     "output_type": "stream",
     "text": [
      "dicionarios de para geração dos ids preparados\n"
     ]
    }
   ],
   "source": [
    "# casos especiais:\n",
    "#(caso1) id_modal>30 and id_modal<40 --> I\n",
    "#(caso2) not id_modal --> J\n",
    "ID_MODAL={\n",
    "    'MM':'M',\n",
    "    '10':'M',\n",
    "    '11':'T',\n",
    "    '12':'V',\n",
    "    '13':'S',\n",
    "    '14':'P',\n",
    "    '20':'B',\n",
    "    '21':'H', \n",
    "    '22':'O',\n",
    "    '23':'E',\n",
    "    '30':'I',\n",
    "    '31 a 39':'I',\n",
    "    '----':'J',\n",
    "    '40':'L',\n",
    "    '41':'C',\n",
    "    '50':'F',\n",
    "    '60':'A'\n",
    "}\n",
    "\n",
    "def translate_to_new_mode(mode):\n",
    "    if mode!='MM' and int(mode)>30 and int(mode)<39:\n",
    "        return \"I\"\n",
    "    if str(mode) not in ID_MODAL:\n",
    "        return \"J\"\n",
    "    else:\n",
    "        return ID_MODAL[str(mode)]\n",
    "    \n",
    "\n",
    "ID_CORREDOR={\n",
    "    '0':'0',\n",
    "    '1':'O',\n",
    "    '2':'M',\n",
    "    '3':'C',\n",
    "    '4':'L',\n",
    "    '5':'B',\n",
    "    '6':'Z',\n",
    "    '7':'Y'\n",
    "}\n",
    "\n",
    "def translate_to_new_corredor(corredor):\n",
    "    return ID_CORREDOR[corredor]\n",
    "\n",
    "\n",
    "TIPO_PARADA={\n",
    "    '0':'0',\n",
    "    '1':'C',\n",
    "    '2':'A',\n",
    "    '4':'P',\n",
    "    '5':'E',\n",
    "    '6':'S',\n",
    "    '7':'U',\n",
    "    '8':'X',\n",
    "    '9':'T'\n",
    "}\n",
    "def translate_to_new_parada(parada):\n",
    "    return TIPO_PARADA[parada]\n",
    "\n",
    "print('dicionarios de para geração dos ids preparados')\n",
    "\n",
    "def treat_results(stop,code,count,i):\n",
    "    return {\n",
    "            \"model\": \"pontos.qrcode\",\n",
    "            \"pk\": count+i,\n",
    "            \"fields\": {\n",
    "                \"stop\": stop,\n",
    "                \"code\": code,\n",
    "            }\n",
    "    }\n",
    "\n",
    "def convert_old_to_new_stop(stop):\n",
    "    return stop[0:1]+stop[3:6]+translate_to_new_mode(stop[6:8])+translate_to_new_corredor(stop[8])+stop[-6:-2]+translate_to_new_parada(stop[-2])+stop[-1:]"
   ]
  },
  {
   "cell_type": "code",
   "execution_count": null,
   "id": "a79a4659-b0e3-432f-ab25-3de7f92edc94",
   "metadata": {},
   "outputs": [],
   "source": [
    "# Generate from api"
   ]
  },
  {
   "cell_type": "code",
   "execution_count": 175,
   "id": "a593ce3c-238f-46dd-9e5f-054b56f9d933",
   "metadata": {},
   "outputs": [
    {
     "name": "stdout",
     "output_type": "stream",
     "text": [
      "40 pontos adicionados a fixtures\n"
     ]
    }
   ],
   "source": [
    "import requests\n",
    "last_page =True\n",
    "url='https://api.mobilidade.rio/qrcode/'\n",
    "fixtures=[]\n",
    "i=0\n",
    "while last_page:\n",
    "    x = requests.get(url)\n",
    "    x=json.loads(x.text)\n",
    "    results=x['results']\n",
    "    for item in results:\n",
    "        code = item[\"code\"]\n",
    "        stop=item['stop'][\"id\"]\n",
    "        if len(stop)>12:\n",
    "            stop=convert_old_to_new_stop(stop)\n",
    "        fixtures.append(treat_results(stop,code,0,i))\n",
    "        i+=1\n",
    "    if x[\"next\"]:\n",
    "        url= x[\"next\"]\n",
    "    else:\n",
    "        last_page=False\n",
    "\n",
    "print(len(fixtures),'pontos adicionados a fixtures')"
   ]
  },
  {
   "cell_type": "code",
   "execution_count": null,
   "id": "aa557e08-483e-4813-8da4-cf96b5f509c5",
   "metadata": {},
   "outputs": [],
   "source": [
    "#add new qrcodes"
   ]
  },
  {
   "cell_type": "code",
   "execution_count": 176,
   "id": "63386f5d-2cdc-44cc-9969-6f4d1cd46902",
   "metadata": {},
   "outputs": [
    {
     "name": "stdout",
     "output_type": "stream",
     "text": [
      "42 pontos adicionados a fixtures\n"
     ]
    }
   ],
   "source": [
    "new_code=[[\"1005O00198C0\",\"1K84\"],[\"1005O00197C0\",\"7KKY\"]]\n",
    "for i in range(len(new_stops)):\n",
    "        code = new_code[i][0]\n",
    "        stop = new_code[i][1]\n",
    "        if len(stop)>12:\n",
    "            stop=convert_old_to_new_stop(stop)\n",
    "        fixtures.append(treat_results(stop,code,len(fixtures),0))\n",
    "print(len(fixtures),'pontos adicionados a fixtures')"
   ]
  },
  {
   "cell_type": "code",
   "execution_count": null,
   "id": "f5a7f95f-48ee-49a9-abb1-18912d35555a",
   "metadata": {},
   "outputs": [],
   "source": [
    "#create json"
   ]
  },
  {
   "cell_type": "code",
   "execution_count": 177,
   "id": "0bba9b45-6d31-444d-99c3-7fe2ff756cd8",
   "metadata": {},
   "outputs": [],
   "source": [
    "dump_fixtures(fixtures, f\"../fixtures/qrcode.json\")"
   ]
  },
  {
   "cell_type": "code",
   "execution_count": 161,
   "id": "4b508bf2-b878-48dd-bd11-da7a0b74597f",
   "metadata": {},
   "outputs": [],
   "source": [
    "#generate mode.json from api"
   ]
  },
  {
   "cell_type": "code",
   "execution_count": 10,
   "id": "f57ff22b-88ff-4b2e-9a35-110b76e48c6e",
   "metadata": {},
   "outputs": [
    {
     "name": "stdout",
     "output_type": "stream",
     "text": [
      "10 <class 'int'>\n",
      "11 <class 'int'>\n",
      "12 <class 'int'>\n",
      "13 <class 'int'>\n",
      "20 <class 'int'>\n",
      "22 <class 'int'>\n",
      "23 <class 'int'>\n",
      "30 <class 'int'>\n",
      "40 <class 'int'>\n",
      "41 <class 'int'>\n",
      "50 <class 'int'>\n",
      "11 modais adicionados a fixtures\n"
     ]
    }
   ],
   "source": [
    "import requests\n",
    "\n",
    "url='https://api.mobilidade.rio/mode/'\n",
    "fixtures=[]\n",
    "x = requests.get(url)\n",
    "x=json.loads(x.text)\n",
    "results=x['results']\n",
    "for item in results:\n",
    "    modal={\n",
    "            \"model\": \"pontos.mode\",\n",
    "            \"pk\": translate_to_new_mode(item[\"id\"]),\n",
    "            \"fields\": {\n",
    "                \"name\": item[\"name\"],\n",
    "            }\n",
    "                \n",
    "    }\n",
    "    fixtures.append(modal)\n",
    "\n",
    "print(len(fixtures),'modais adicionados a fixtures')\n",
    "dump_fixtures(fixtures, f\"../fixtures/mode.json\")"
   ]
  },
  {
   "cell_type": "code",
   "execution_count": null,
   "id": "e5cfcb25-cc78-4055-85d7-c43c10c0e18e",
   "metadata": {},
   "outputs": [],
   "source": []
  }
 ],
 "metadata": {
  "kernelspec": {
   "display_name": "Python 3",
   "language": "python",
   "name": "python3"
  },
  "language_info": {
   "codemirror_mode": {
    "name": "ipython",
    "version": 3
   },
   "file_extension": ".py",
   "mimetype": "text/x-python",
   "name": "python",
   "nbconvert_exporter": "python",
   "pygments_lexer": "ipython3",
   "version": "3.7.3"
  }
 },
 "nbformat": 4,
 "nbformat_minor": 5
}
