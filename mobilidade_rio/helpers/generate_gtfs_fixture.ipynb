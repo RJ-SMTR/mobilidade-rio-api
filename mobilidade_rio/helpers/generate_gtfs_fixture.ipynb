{
 "cells": [
  {
   "cell_type": "code",
   "execution_count": 1,
   "id": "9b3946b4-9fb1-4956-bf97-e268b6e7a2d0",
   "metadata": {},
   "outputs": [],
   "source": [
    "import json\n",
    "from typing import List, Union\n",
    "from pathlib import Path\n",
    "import re\n",
    "\n",
    "import pandas as pd\n",
    "import requests\n",
    "import yaml"
   ]
  },
  {
   "cell_type": "code",
   "execution_count": 2,
   "id": "820abaa6-9287-4ac0-9fb4-43b1ed2b7466",
   "metadata": {
    "tags": []
   },
   "outputs": [],
   "source": [
    "CONFIG_FILENAME = \"config_gtfs.yaml\""
   ]
  },
  {
   "cell_type": "code",
   "execution_count": 3,
   "id": "554a8369-aa4b-474e-9b1a-67018e49bced",
   "metadata": {},
   "outputs": [
    {
     "data": {
      "text/plain": [
       "True"
      ]
     },
     "execution_count": 3,
     "metadata": {},
     "output_type": "execute_result"
    }
   ],
   "source": [
    "#supressão de serviço tipo SN\n",
    "#Tipo de serviço é o 8 character do id de rotas.\n",
    "er=[]\n",
    "def is_not_SN(route_id):\n",
    "    #print(route_id,route_id[7],route_id[7]==\"N\")\n",
    "    try:\n",
    "        return route_id[7]==\"N\"\n",
    "    \n",
    "    except:\n",
    "        #print(\"error \", route_id)\n",
    "        er.append(route_id)\n",
    "        return True\n",
    "\n",
    "is_not_SN(\"O0624AAN0A\")"
   ]
  },
  {
   "cell_type": "code",
   "execution_count": 4,
   "id": "ec17f9e0-6ac2-4e57-9a9b-c7c921d96952",
   "metadata": {},
   "outputs": [],
   "source": [
    "def load_csv(filepath: Union[str, Path]) -> pd.DataFrame:\n",
    "    \"\"\"\n",
    "    Carrega o arquivo CSV e retorna um DataFrame.\n",
    "    \"\"\"\n",
    "    return pd.read_csv(filepath)\n",
    "\n",
    "def dump_fixtures(fixtures: List[dict], filepath: Union[str, Path]):\n",
    "    \"\"\"\n",
    "    Salva os fixtures em um arquivo JSON.\n",
    "    \"\"\"\n",
    "    with open(filepath, \"w\") as f:\n",
    "        json.dump(fixtures, f, indent=4)\n",
    "\n",
    "def resolve_e(case,record,i):\n",
    "    if case == 'trip_id[12:15]':\n",
    "        return record['trip_id'][12:15]\n",
    "    if case =='i':\n",
    "        return str(i)\n",
    "    if case == \"\": #TODO: resolver o caso da via.\n",
    "        return \"\"\n",
    "    if case == \"stop_id[4:5]\":\n",
    "        return record[\"stop_id\"][4:5]\n",
    "\n",
    "def gtfs_to_fixtures(dataframe, config_json, model, addSNs=True):\n",
    "    fixtures = []\n",
    "    k=config_json[\"json\"][\"fields\"].keys()\n",
    "    print(k)\n",
    "    e=['trip_id[12:15]', \"i\",\"\",\"stop_id[4:5]\"]\n",
    "    for i, record in dataframe.iterrows():\n",
    "        result = {\n",
    "                \"model\": \"pontos.\"+config_json[\"json\"][\"model\"],\n",
    "                \"pk\": record[config_json[\"json\"][\"pk\"]] if config_json[\"json\"][\"pk\"] not in e else resolve_e(config_json[\"json\"][\"pk\"],record,i),\n",
    "                \"fields\": dict.fromkeys(k,\"\")\n",
    "            }\n",
    "        \n",
    "        #print(result)\n",
    "        for item in k:\n",
    "            if config_json[\"json\"][\"fields\"][item] not in e:\n",
    "                result[\"fields\"][item]=record[config_json[\"json\"][\"fields\"][item]]\n",
    "            else:\n",
    "                result[\"fields\"][item]=resolve_e(config_json[\"json\"][\"fields\"][item],record,i)\n",
    "        \n",
    "            if model ==\"agency\":\n",
    "                result[\"pk\"]=str(result[\"pk\"])\n",
    "            if model ==\"sequence\":\n",
    "                result[\"pk\"]=int(result[\"pk\"])\n",
    "            if model ==\"route\":\n",
    "                result[\"fields\"]['agency']=str(result[\"fields\"]['agency'])\n",
    "            if model ==\"trip\":\n",
    "                #result[\"fields\"]['direction']=int(result[\"fields\"]['direction'])\n",
    "                if result[\"fields\"]['headsign']!=result[\"fields\"]['headsign']:\n",
    "                    result[\"fields\"]['headsign']=\"\"\n",
    "                \n",
    "            if model ==\"stop\":\n",
    "                result[\"fields\"]['latitude']=str(result[\"fields\"]['latitude'])\n",
    "                result[\"fields\"]['longitude']=str(result[\"fields\"]['longitude'])\n",
    "                if result[\"fields\"]['mode']==\"\": #erro gtfsv2 id sem mode, hardcoded\n",
    "                    result[\"fields\"]['mode']=\"O\"\n",
    "            \n",
    "            if model in [\"linha\",\"route\"]:\n",
    "                if result[\"fields\"]['mode'] not in list(ID_MODAL.values()): #erro gtfsv2 id sem mode, hardcoded\n",
    "                    result[\"fields\"]['mode']=\"O\"\n",
    "        if addSNs:\n",
    "            fixtures.append(result)\n",
    "        else:\n",
    "            #tratando SNs in route and trip\n",
    "            if model == \"trip\" and is_not_SN(result[\"fields\"]['route']):\n",
    "                fixtures.append(result)\n",
    "            if model == \"route\" and is_not_SN(result[\"pk\"]):\n",
    "                fixtures.append(result)\n",
    "            if model == \"sequence\" and result[\"fields\"][\"trip\"] in trip_list:\n",
    "                fixtures.append(result)\n",
    "            if model not in [\"trip\", \"route\",\"sequence\"]:\n",
    "                fixtures.append(result)\n",
    "\n",
    "    dump_fixtures(fixtures, f\"../fixtures/{model}.json\")\n"
   ]
  },
  {
   "cell_type": "code",
   "execution_count": 5,
   "id": "14947539-346b-49de-a9a7-2771595b33a2",
   "metadata": {
    "tags": []
   },
   "outputs": [
    {
     "name": "stdout",
     "output_type": "stream",
     "text": [
      "dicionarios de para geração dos ids preparados\n"
     ]
    }
   ],
   "source": [
    "# casos especiais:\n",
    "#(caso1) id_modal>30 and id_modal<40 --> I\n",
    "#(caso2) not id_modal --> J\n",
    "ID_MODAL={\n",
    "    'MM':'M',\n",
    "    '10':'M',\n",
    "    '11':'T',\n",
    "    '12':'V',\n",
    "    '13':'S',\n",
    "    '14':'P',\n",
    "    '20':'B',\n",
    "    '21':'H', \n",
    "    '22':'O',\n",
    "    '23':'E',\n",
    "    '30':'I',\n",
    "    '31 a 39':'I',\n",
    "    '----':'J',\n",
    "    '40':'L',\n",
    "    '41':'C',\n",
    "    '50':'F',\n",
    "    '60':'A'\n",
    "}\n",
    "\n",
    "def translate_to_new_mode(mode):\n",
    "    if mode!='MM' and int(mode)>30 and int(mode)<39:\n",
    "        return \"I\"\n",
    "    if str(mode) not in ID_MODAL:\n",
    "        return \"J\"\n",
    "    else:\n",
    "        return ID_MODAL[str(mode)]\n",
    "    \n",
    "\n",
    "ID_CORREDOR={\n",
    "    '0':'0',\n",
    "    '1':'O',\n",
    "    '2':'M',\n",
    "    '3':'C',\n",
    "    '4':'L',\n",
    "    '5':'B',\n",
    "    '6':'Z',\n",
    "    '7':'Y'\n",
    "}\n",
    "\n",
    "def translate_to_new_corredor(corredor):\n",
    "    return ID_CORREDOR[corredor]\n",
    "\n",
    "\n",
    "TIPO_PARADA={\n",
    "    '0':'0',\n",
    "    '1':'C',\n",
    "    '2':'A',\n",
    "    '4':'P',\n",
    "    '5':'E',\n",
    "    '6':'S',\n",
    "    '7':'U',\n",
    "    '8':'X',\n",
    "    '9':'T'\n",
    "}\n",
    "def translate_to_new_parada(parada):\n",
    "    return TIPO_PARADA[parada]\n",
    "\n",
    "print('dicionarios de para geração dos ids preparados')\n",
    "\n",
    "def treat_results(stop,code,count,i):\n",
    "    return {\n",
    "            \"model\": \"pontos.qrcode\",\n",
    "            \"pk\": count+i,\n",
    "            \"fields\": {\n",
    "                \"stop\": stop,\n",
    "                \"code\": code,\n",
    "            }\n",
    "    }\n",
    "\n",
    "def convert_old_to_new_stop(stop):\n",
    "    #return stop[0:1]+stop[3:6]+translate_to_new_mode(stop[6:8])+translate_to_new_corredor(stop[8])+stop[-6:-2]+translate_to_new_parada(stop[-2])+stop[-1:]\n",
    "    return stop"
   ]
  },
  {
   "cell_type": "code",
   "execution_count": 6,
   "id": "e22d67b0-73de-447e-a149-190e85517d9a",
   "metadata": {
    "tags": []
   },
   "outputs": [
    {
     "data": {
      "text/plain": [
       "dict_keys(['agency', 'linha', 'route', 'trip', 'stop', 'sequence'])"
      ]
     },
     "execution_count": 6,
     "metadata": {},
     "output_type": "execute_result"
    }
   ],
   "source": [
    "config = yaml.load(\n",
    "        open(CONFIG_FILENAME, \"r\"), \n",
    "        Loader=yaml.FullLoader\n",
    "    )\n",
    "\n",
    "config[\"models\"].keys()"
   ]
  },
  {
   "cell_type": "code",
   "execution_count": 7,
   "id": "5c39d1c9-83bc-4999-931f-9ac4064bd5df",
   "metadata": {
    "tags": []
   },
   "outputs": [
    {
     "data": {
      "text/plain": [
       "'agency  4'"
      ]
     },
     "metadata": {},
     "output_type": "display_data"
    },
    {
     "name": "stdout",
     "output_type": "stream",
     "text": [
      "dict_keys(['name'])\n"
     ]
    },
    {
     "data": {
      "text/plain": [
       "'linha  408'"
      ]
     },
     "metadata": {},
     "output_type": "display_data"
    },
    {
     "name": "stdout",
     "output_type": "stream",
     "text": [
      "dict_keys(['agency', 'mode', 'initials', 'name'])\n"
     ]
    },
    {
     "data": {
      "text/plain": [
       "'route  408'"
      ]
     },
     "metadata": {},
     "output_type": "display_data"
    },
    {
     "name": "stdout",
     "output_type": "stream",
     "text": [
      "dict_keys(['linha', 'agency', 'mode', 'short_name', 'vista'])\n"
     ]
    },
    {
     "data": {
      "text/plain": [
       "'trip  4998'"
      ]
     },
     "metadata": {},
     "output_type": "display_data"
    },
    {
     "name": "stdout",
     "output_type": "stream",
     "text": [
      "dict_keys(['route', 'headsign', 'via', 'version', 'direction'])\n"
     ]
    },
    {
     "data": {
      "text/plain": [
       "'stop  6710'"
      ]
     },
     "metadata": {},
     "output_type": "display_data"
    },
    {
     "name": "stdout",
     "output_type": "stream",
     "text": [
      "dict_keys(['mode', 'name', 'address', 'latitude', 'longitude'])\n"
     ]
    },
    {
     "name": "stderr",
     "output_type": "stream",
     "text": [
      "/usr/local/lib/python3.7/dist-packages/IPython/core/interactiveshell.py:3166: DtypeWarning: Columns (5) have mixed types.Specify dtype option on import or set low_memory=False.\n",
      "  interactivity=interactivity, compiler=compiler, result=result)\n"
     ]
    },
    {
     "data": {
      "text/plain": [
       "'sequence  282992'"
      ]
     },
     "metadata": {},
     "output_type": "display_data"
    },
    {
     "name": "stdout",
     "output_type": "stream",
     "text": [
      "dict_keys(['trip', 'stop', 'order'])\n"
     ]
    }
   ],
   "source": [
    "trip_list=[]\n",
    "#usado para gerar todos os arquivos de fixture descritos em config.yml \n",
    "#trip precisa ser gerando antes de sequence \n",
    "for model in config[\"models\"].keys():\n",
    "    #print(model)\n",
    "    config_json=config[\"models\"][model]\n",
    "    dataframe = pd.read_csv( config_json['source'] )\n",
    "    display(f\"{model}  {dataframe.shape[0]}\")\n",
    "    gtfs_to_fixtures(dataframe, config_json, model)\n",
    "    if model == \"trip\":\n",
    "        trip_list=pd.json_normalize(json.load(open(\"../fixtures/trip.json\")))['pk'].tolist()"
   ]
  },
  {
   "cell_type": "code",
   "execution_count": 25,
   "id": "3047dff5-17f3-4374-8766-a59ed928066a",
   "metadata": {},
   "outputs": [],
   "source": [
    "# generate qr-code."
   ]
  },
  {
   "cell_type": "code",
   "execution_count": null,
   "id": "a79a4659-b0e3-432f-ab25-3de7f92edc94",
   "metadata": {},
   "outputs": [],
   "source": [
    "# Generate from api"
   ]
  },
  {
   "cell_type": "code",
   "execution_count": 57,
   "id": "a593ce3c-238f-46dd-9e5f-054b56f9d933",
   "metadata": {},
   "outputs": [
    {
     "name": "stdout",
     "output_type": "stream",
     "text": [
      "44 pontos adicionados a fixtures\n"
     ]
    }
   ],
   "source": [
    "import requests\n",
    "last_page =True\n",
    "#url='https://api.mobilidade.rio/qrcode/'\n",
    "url=\"https://api.staging.mobilidade.rio/qrcode/\"\n",
    "fixtures=[]\n",
    "i=0\n",
    "while last_page:\n",
    "    x = requests.get(url)\n",
    "    x=json.loads(x.text)\n",
    "    results=x['results']\n",
    "    for item in results:\n",
    "        code = item[\"code\"]\n",
    "        stop=item['stop'][\"id\"]\n",
    "        if len(stop)>12:\n",
    "            stop=convert_old_to_new_stop(stop)\n",
    "        fixtures.append(treat_results(stop,code,0,i))\n",
    "        i+=1\n",
    "    if x[\"next\"]:\n",
    "        url= x[\"next\"]\n",
    "    else:\n",
    "        last_page=False\n",
    "\n",
    "print(len(fixtures),'pontos adicionados a fixtures')"
   ]
  },
  {
   "cell_type": "code",
   "execution_count": null,
   "id": "aa557e08-483e-4813-8da4-cf96b5f509c5",
   "metadata": {},
   "outputs": [],
   "source": [
    "#add new qrcodes"
   ]
  },
  {
   "cell_type": "code",
   "execution_count": 74,
   "id": "78ef8a5a-5baf-45d1-9b6c-4a075694abcd",
   "metadata": {},
   "outputs": [],
   "source": [
    "fixtures=[]"
   ]
  },
  {
   "cell_type": "code",
   "execution_count": 58,
   "id": "63386f5d-2cdc-44cc-9969-6f4d1cd46902",
   "metadata": {},
   "outputs": [
    {
     "name": "stdout",
     "output_type": "stream",
     "text": [
      "51 pontos adicionados a fixtures\n"
     ]
    }
   ],
   "source": [
    "new_code=[\n",
    "    [\"CZ9H\",\"t2u9\"],\n",
    "    [\"DQ2D\",\"3061O00018C0\"],\n",
    "    [\"T5TT\",\"3061O00019C0\"],\n",
    "    [\"HFGL\",\"3061O00020C0\"],\n",
    "    [\"DRVV\",\"3061O00021C0\"],\n",
    "    [\"TDBA\",\"3061O00022C0\"],\n",
    "    [\"DQ3X\",\"3061O00023C0\"]\n",
    "]\n",
    "for i in range(len(new_code)):\n",
    "        code = new_code[i][0]\n",
    "        stop = new_code[i][1]\n",
    "        if len(stop)>12:\n",
    "            stop=convert_old_to_new_stop(stop)\n",
    "        fixtures.append(treat_results(stop,code,len(fixtures),0))\n",
    "print(len(fixtures),'pontos adicionados a fixtures')"
   ]
  },
  {
   "cell_type": "code",
   "execution_count": 14,
   "id": "f5a7f95f-48ee-49a9-abb1-18912d35555a",
   "metadata": {},
   "outputs": [],
   "source": [
    "#create json"
   ]
  },
  {
   "cell_type": "code",
   "execution_count": 59,
   "id": "0bba9b45-6d31-444d-99c3-7fe2ff756cd8",
   "metadata": {},
   "outputs": [],
   "source": [
    "dump_fixtures(fixtures, f\"../fixtures/qrcode.json\")"
   ]
  },
  {
   "cell_type": "code",
   "execution_count": 161,
   "id": "4b508bf2-b878-48dd-bd11-da7a0b74597f",
   "metadata": {},
   "outputs": [],
   "source": [
    "#generate mode.json from api"
   ]
  },
  {
   "cell_type": "code",
   "execution_count": 73,
   "id": "f57ff22b-88ff-4b2e-9a35-110b76e48c6e",
   "metadata": {},
   "outputs": [
    {
     "name": "stdout",
     "output_type": "stream",
     "text": [
      "11 modais adicionados a fixtures\n"
     ]
    }
   ],
   "source": [
    "import requests\n",
    "\n",
    "url='https://api.mobilidade.rio/mode/'\n",
    "fixtures=[]\n",
    "x = requests.get(url)\n",
    "x=json.loads(x.text)\n",
    "results=x['results']\n",
    "for item in results:\n",
    "    modal={\n",
    "            \"model\": \"pontos.mode\",\n",
    "            \"pk\": translate_to_new_mode(item[\"id\"]),\n",
    "            \"fields\": {\n",
    "                \"name\": item[\"name\"],\n",
    "            }\n",
    "                \n",
    "    }\n",
    "    fixtures.append(modal)\n",
    "\n",
    "print(len(fixtures),'modais adicionados a fixtures')\n",
    "dump_fixtures(fixtures, f\"../fixtures/mode.json\")"
   ]
  },
  {
   "cell_type": "code",
   "execution_count": 57,
   "id": "e5cfcb25-cc78-4055-85d7-c43c10c0e18e",
   "metadata": {},
   "outputs": [
    {
     "data": {
      "text/plain": [
       "'agency'"
      ]
     },
     "metadata": {},
     "output_type": "display_data"
    },
    {
     "data": {
      "text/plain": [
       "['agency_lang',\n",
       " 'agency_fare_url',\n",
       " 'agency_email\\n',\n",
       " 'agency_phone',\n",
       " 'agency_lang\\n',\n",
       " 'agency_branding_url']"
      ]
     },
     "metadata": {},
     "output_type": "display_data"
    },
    {
     "data": {
      "text/plain": [
       "'stop_times'"
      ]
     },
     "metadata": {},
     "output_type": "display_data"
    },
    {
     "data": {
      "text/plain": [
       "['drop_off_type', 'continuous_drop_off', 'pickup_type', 'continuous_pickup']"
      ]
     },
     "metadata": {},
     "output_type": "display_data"
    },
    {
     "data": {
      "text/plain": [
       "'routes'"
      ]
     },
     "metadata": {},
     "output_type": "display_data"
    },
    {
     "data": {
      "text/plain": [
       "['continuous_drop_off\\n',\n",
       " 'route_sort_order',\n",
       " 'route_long_name\\n',\n",
       " 'route_desc',\n",
       " 'route_branding_url',\n",
       " 'route_long_name',\n",
       " 'continuous_pickup',\n",
       " 'route_url']"
      ]
     },
     "metadata": {},
     "output_type": "display_data"
    },
    {
     "data": {
      "text/plain": [
       "'trips'"
      ]
     },
     "metadata": {},
     "output_type": "display_data"
    },
    {
     "data": {
      "text/plain": [
       "['wheelchair_accessible',\n",
       " 'block_id',\n",
       " 'bikes_allowed\\n',\n",
       " 'shape_id',\n",
       " 'shape_id\\n']"
      ]
     },
     "metadata": {},
     "output_type": "display_data"
    },
    {
     "data": {
      "text/plain": [
       "'stops'"
      ]
     },
     "metadata": {},
     "output_type": "display_data"
    },
    {
     "data": {
      "text/plain": [
       "['zone_id',\n",
       " 'wheelchair_boarding',\n",
       " 'parent_station\\n',\n",
       " 'platform_code\\n',\n",
       " 'stop_code',\n",
       " 'stop_desc',\n",
       " 'stop_timezone',\n",
       " 'stop_url',\n",
       " 'parent_station']"
      ]
     },
     "metadata": {},
     "output_type": "display_data"
    }
   ],
   "source": [
    "for model in ['agency', 'stop_times', 'routes', 'trips', 'stops']:\n",
    "    a = open(f\"/home/d/code/SMTR/data/gtfs/{model}.txt\")\n",
    "    b = open(f\"/home/d/code/SMTR/data/gtfsv2/{model}.txt\")\n",
    "    for line in a:\n",
    "        gtfs_old_h=line.split(\",\")\n",
    "        for l in b:\n",
    "            gtfs_v2_h=l.split(\",\")\n",
    "            display(model,list(set(gtfs_old_h) ^ set(gtfs_v2_h)))\n",
    "            break\n",
    "        break"
   ]
  },
  {
   "cell_type": "code",
   "execution_count": null,
   "id": "393ff267-42d5-499e-9f84-1dc6443c0a74",
   "metadata": {},
   "outputs": [],
   "source": [
    "code/SMTR/data/gtfs/trips.txt"
   ]
  },
  {
   "attachments": {
    "14c7be66-d4c3-4a2c-86c4-07abca6c5f76.png": {
     "image/png": "[encoded data removed]"
    }
   },
   "cell_type": "markdown",
   "id": "29b9e272-28ff-48a4-ba7b-598f4e5df915",
   "metadata": {},
   "source": [
    "mobilidade_rio.pontos.models.Mode.objects.all().delete()\n",
    "\n",
    "![image.png](attachment:14c7be66-d4c3-4a2c-86c4-07abca6c5f76.png)"
   ]
  },
  {
   "cell_type": "code",
   "execution_count": null,
   "id": "c7b56831-f091-4457-9a51-30e4de2a39ff",
   "metadata": {},
   "outputs": [],
   "source": [
    "python manage.py loaddata fixtures/qrcode.json\n"
   ]
  }
 ],
 "metadata": {
  "kernelspec": {
   "display_name": "Python 3",
   "language": "python",
   "name": "python3"
  },
  "language_info": {
   "codemirror_mode": {
    "name": "ipython",
    "version": 3
   },
   "file_extension": ".py",
   "mimetype": "text/x-python",
   "name": "python",
   "nbconvert_exporter": "python",
   "pygments_lexer": "ipython3",
   "version": "3.7.3"
  }
 },
 "nbformat": 4,
 "nbformat_minor": 5
}
