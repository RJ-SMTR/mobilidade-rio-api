{
 "cells": [
  {
   "cell_type": "markdown",
   "metadata": {},
   "source": [
    "# Test `query_utils` here"
   ]
  },
  {
   "cell_type": "code",
   "execution_count": 7,
   "metadata": {},
   "outputs": [
    {
     "name": "stdout",
     "output_type": "stream",
     "text": [
      "\u001b[94m000\u001b[0m \n",
      "\u001b[94m001\u001b[0m     SELECT * FROM (\n",
      "\u001b[94m002\u001b[0m         SELECT *,\n",
      "\u001b[94m003\u001b[0m             ROW_NUMBER() OVER (PARTITION BY trip_id_id,stop_id_id ORDER BY id) AS row_num\n",
      "\u001b[94m004\u001b[0m         FROM pontos_stoptimes\n",
      "\u001b[94m005\u001b[0m         WHERE stop_id_id IN ('4128O00122C0', '2028O00023C0')\n",
      "\u001b[94m006\u001b[0m             AND stop_id_id IN ('4128O00122C0')\n",
      "\u001b[94m007\u001b[0m         AND  trip_id_id IN ((SELECT DISTINCT trip_id_id FROM pontos_stoptimes WHERE stop_id_id = '4128O00122C0') INTERSECT (SELECT DISTINCT trip_id_id FROM pontos_stoptimes WHERE stop_id_id = '2028O00023C0'))\n",
      "\u001b[94m008\u001b[0m     ) AS q__e8b05e0b35c46d6206f0560e89a38fbd\n",
      "\u001b[94m009\u001b[0m     WHERE row_num = 1\n",
      "\u001b[94m010\u001b[0m     \n",
      "len: 2\n"
     ]
    },
    {
     "data": {
      "text/html": [
       "\n",
       "            <table>\n",
       "                <tr><th style=\"font-weight:bold; background-color:'#ebebeb'\">id</th><th style=\"font-weight:bold; background-color:'#ebebeb'\">stop_sequence</th><th style=\"font-weight:bold; background-color:'#ebebeb'\">arrival_time</th><th style=\"font-weight:bold; background-color:'#ebebeb'\">departure_time</th><th style=\"font-weight:bold; background-color:'#ebebeb'\">stop_headsign</th><th style=\"font-weight:bold; background-color:'#ebebeb'\">pickup_type</th><th style=\"font-weight:bold; background-color:'#ebebeb'\">drop_off_type</th><th style=\"font-weight:bold; background-color:'#ebebeb'\">continuous_pickup</th><th style=\"font-weight:bold; background-color:'#ebebeb'\">continuous_drop_off</th><th style=\"font-weight:bold; background-color:'#ebebeb'\">shape_dist_traveled</th><th style=\"font-weight:bold; background-color:'#ebebeb'\">timepoint</th><th style=\"font-weight:bold; background-color:'#ebebeb'\">stop_id_id</th><th style=\"font-weight:bold; background-color:'#ebebeb'\">trip_id_id</th><th style=\"font-weight:bold; background-color:'#ebebeb'\">row_num</th></tr>\n",
       "                <tr><td>2149277</td><td>78</td><td>07:14:46</td><td>07:14:46</td><td>None</td><td>0</td><td>0</td><td>None</td><td>None</td><td>48564.76803483807</td><td>0</td><td>4128O00122C0</td><td>O0041CAA0AIDU01</td><td>1</td></tr><tr><td>2121356</td><td>66</td><td>02:06:30</td><td>02:06:30</td><td>None</td><td>None</td><td>None</td><td>None</td><td>None</td><td>32811.4161227531</td><td>0</td><td>4128O00122C0</td><td>O0309AAA0AVDU01</td><td>1</td></tr>\n",
       "            </table>\n",
       "            "
      ],
      "text/plain": [
       "<IPython.core.display.HTML object>"
      ]
     },
     "metadata": {},
     "output_type": "display_data"
    }
   ],
   "source": [
    "import psycopg2\n",
    "import query_utils as qu\n",
    "\n",
    "# connect\n",
    "\n",
    "conn = psycopg2.connect(\"dbname=postgres user=postgres password=postgres port=5432\")\n",
    "cur = conn.cursor()\n",
    "\n",
    "# query\n",
    "\n",
    "q_col_in = (\n",
    "    qu.q_limit(\n",
    "    qu.q_col_in(\n",
    "        select=[\"id\",\"stop_sequence\"],\n",
    "        from_target=\"select * from pontos_stoptimes\",\n",
    "        where_col_in={\"stop_id_id\": [\"4128O00169P0\"]},\n",
    "        order_by=\"stop_sequence\",\n",
    "        target_is_query=True\n",
    "    ),\n",
    "    limit=30,\n",
    "    )\n",
    ")\n",
    "\n",
    "q_unique_cols = (\n",
    "    qu.q_unique_cols(\n",
    "        table=\"pontos_stoptimes\",\n",
    "        unique_cols=[\"trip_id_id\",\"stop_id_id\"],\n",
    "        select_cols=[\"*\"],\n",
    "        col_in={\"stop_id_id\": [\"4128O00122C0\",\"2028O00023C0\"]},\n",
    "        col_match_all=[\"trip_id_id\"],\n",
    "        # q_conditions=\"stop_id_id IN ('4128O00122C0')\",\n",
    "    )\n",
    ")\n",
    "\n",
    "q_raw = \"\"\"\n",
    "SELECT id, stop_id_id, trip_id_id FROM pontos_stoptimes LIMIT 10\n",
    "\"\"\"\n",
    "\n",
    "# execute\n",
    "q = q_unique_cols\n",
    "qu.print_query(q)\n",
    "qu.plot_query(cur, q)"
   ]
  },
  {
   "cell_type": "markdown",
   "metadata": {},
   "source": []
  }
 ],
 "metadata": {
  "kernelspec": {
   "display_name": "Python 3.10.8 ('mobilidade_rio_api')",
   "language": "python",
   "name": "python3"
  },
  "language_info": {
   "codemirror_mode": {
    "name": "ipython",
    "version": 3
   },
   "file_extension": ".py",
   "mimetype": "text/x-python",
   "name": "python",
   "nbconvert_exporter": "python",
   "pygments_lexer": "ipython3",
   "version": "3.10.8"
  },
  "orig_nbformat": 4,
  "vscode": {
   "interpreter": {
    "hash": "811a8f72235e9d7f1be6d00a6f96c69834b312ea92e4e5e4d2eb2c9747df7d9e"
   }
  }
 },
 "nbformat": 4,
 "nbformat_minor": 2
}
