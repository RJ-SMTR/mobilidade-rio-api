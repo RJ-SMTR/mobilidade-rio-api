{
 "cells": [
  {
   "cell_type": "markdown",
   "metadata": {},
   "source": [
    "# Test `query_utils` here"
   ]
  },
  {
   "cell_type": "code",
   "execution_count": 1,
   "metadata": {},
   "outputs": [
    {
     "name": "stdout",
     "output_type": "stream",
     "text": [
      "\u001b[94m000\u001b[0m SELECT id, stop_sequence \n",
      "\u001b[94m001\u001b[0m FROM (select * from pontos_stoptimes) as q__953c9e9f95edc30cb7ed4955fefdc1ec \n",
      "\u001b[94m002\u001b[0m WHERE stop_id_id IN ('4128O00169P0') \n",
      "\u001b[94m003\u001b[0m ORDER BY stop_sequence \n",
      "\u001b[94m004\u001b[0m LIMIT 30\n",
      "len: 17\n"
     ]
    },
    {
     "data": {
      "text/html": [
       "\n",
       "            <table>\n",
       "                <tr><th style=\"font-weight:bold; background-color:'#ebebeb'\">id</th><th style=\"font-weight:bold; background-color:'#ebebeb'\">stop_sequence</th></tr>\n",
       "                <tr><td>2129203</td><td>0</td></tr><tr><td>2148357</td><td>0</td></tr><tr><td>2145759</td><td>0</td></tr><tr><td>2150841</td><td>0</td></tr><tr><td>2140406</td><td>0</td></tr><tr><td>2136237</td><td>0</td></tr><tr><td>2132583</td><td>0</td></tr><tr><td>2137339</td><td>18</td></tr><tr><td>2134246</td><td>21</td></tr><tr><td>2137419</td><td>24</td></tr><tr><td>2122878</td><td>29</td></tr><tr><td>2141307</td><td>34</td></tr><tr><td>2139749</td><td>38</td></tr><tr><td>2131139</td><td>54</td></tr><tr><td>2121353</td><td>69</td></tr><tr><td>2149274</td><td>81</td></tr><tr><td>2154719</td><td>84</td></tr>\n",
       "            </table>\n",
       "            "
      ],
      "text/plain": [
       "<IPython.core.display.HTML object>"
      ]
     },
     "metadata": {},
     "output_type": "display_data"
    }
   ],
   "source": [
    "import psycopg2\n",
    "import query_utils as qu\n",
    "\n",
    "# connect\n",
    "\n",
    "conn = psycopg2.connect(\"dbname=postgres user=postgres password=postgres port=5432\")\n",
    "cur = conn.cursor()\n",
    "\n",
    "# query\n",
    "\n",
    "q_col_in = (\n",
    "    qu.q_limit(\n",
    "    qu.q_col_in(\n",
    "        select=[\"id\",\"stop_sequence\"],\n",
    "        from_target=\"select * from pontos_stoptimes\",\n",
    "        where_col_in={\"stop_id_id\": [\"4128O00169P0\"]},\n",
    "        order_by=\"stop_sequence\",\n",
    "        target_is_query=True\n",
    "    ),\n",
    "    limit=30,\n",
    "    )\n",
    ")\n",
    "\n",
    "# execute\n",
    "q = q_col_in\n",
    "qu.print_query(q)\n",
    "qu.plot_query(cur, q)"
   ]
  }
 ],
 "metadata": {
  "kernelspec": {
   "display_name": "Python 3.10.8 ('mobilidade_rio_api')",
   "language": "python",
   "name": "python3"
  },
  "language_info": {
   "codemirror_mode": {
    "name": "ipython",
    "version": 3
   },
   "file_extension": ".py",
   "mimetype": "text/x-python",
   "name": "python",
   "nbconvert_exporter": "python",
   "pygments_lexer": "ipython3",
   "version": "3.10.8"
  },
  "orig_nbformat": 4,
  "vscode": {
   "interpreter": {
    "hash": "811a8f72235e9d7f1be6d00a6f96c69834b312ea92e4e5e4d2eb2c9747df7d9e"
   }
  }
 },
 "nbformat": 4,
 "nbformat_minor": 2
}
